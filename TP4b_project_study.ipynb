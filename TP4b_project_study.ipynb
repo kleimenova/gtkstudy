{
  "cells": [
    {
      "cell_type": "markdown",
      "metadata": {
        "id": "view-in-github",
        "colab_type": "text"
      },
      "source": [
        "<a href=\"https://colab.research.google.com/github/kleimenova/gtkstudy/blob/main/TP4b_project_study.ipynb\" target=\"_parent\"><img src=\"https://colab.research.google.com/assets/colab-badge.svg\" alt=\"Open In Colab\"/></a>"
      ]
    },
    {
      "cell_type": "markdown",
      "source": [
        "# Read this before continuing\n",
        "This notebook uses `condacolab` package, which simplifies instalation and setup of `ROOT` package. Unfortunately the `condacolab` commands need to be run as the first Code cell!\n",
        "\n",
        "Once you run `condacolab.install()`, the Python kernel will be restarted. This is normal and expected. After that, you can continue running the cells below like normal.\n",
        "\n",
        "Do not use the `Run all` option. Run the `condacolab` cell individually and wait for the kernel to restart. Only then, you can run all cells if you want."
      ],
      "metadata": {
        "id": "EO9b6LfLUXQc"
      },
      "id": "EO9b6LfLUXQc"
    },
    {
      "cell_type": "code",
      "source": [
        "# Load the Drive helper and mount\n",
        "# Do it once\n",
        "from google.colab import drive\n",
        "\n",
        "# This will prompt for authorization.\n",
        "drive.mount('/content/drive')"
      ],
      "metadata": {
        "id": "OcvM0krZUa49",
        "outputId": "ca224e74-59a4-4d6a-82e9-8d78592e2997",
        "colab": {
          "base_uri": "https://localhost:8080/"
        }
      },
      "id": "OcvM0krZUa49",
      "execution_count": 1,
      "outputs": [
        {
          "output_type": "stream",
          "name": "stdout",
          "text": [
            "Mounted at /content/drive\n"
          ]
        }
      ]
    },
    {
      "cell_type": "code",
      "source": [
        "!pip install -q condacolab\n",
        "import condacolab\n",
        "condacolab.install()"
      ],
      "metadata": {
        "id": "9c77JtqdUd2W",
        "outputId": "da29665c-efc6-466b-eabb-60f2bba35e6c",
        "colab": {
          "base_uri": "https://localhost:8080/"
        }
      },
      "id": "9c77JtqdUd2W",
      "execution_count": 3,
      "outputs": [
        {
          "output_type": "stream",
          "name": "stdout",
          "text": [
            "⏬ Downloading https://github.com/jaimergp/miniforge/releases/latest/download/Mambaforge-colab-Linux-x86_64.sh...\n",
            "📦 Installing...\n",
            "📌 Adjusting configuration...\n",
            "🩹 Patching environment...\n",
            "⏲ Done in 0:00:30\n",
            "🔁 Restarting kernel...\n"
          ]
        }
      ]
    },
    {
      "cell_type": "code",
      "source": [
        "!conda install -c conda-forge root"
      ],
      "metadata": {
        "id": "nTDaVbOmUgNm",
        "outputId": "ebdf6ae4-779a-425b-c120-8f9f69c56cd5",
        "colab": {
          "base_uri": "https://localhost:8080/"
        }
      },
      "id": "nTDaVbOmUgNm",
      "execution_count": 1,
      "outputs": [
        {
          "output_type": "stream",
          "name": "stdout",
          "text": [
            "Collecting package metadata (current_repodata.json): - \b\b\\ \b\b| \b\b/ \b\b- \b\b\\ \b\b| \b\b/ \b\b- \b\b\\ \b\b| \b\b/ \b\b- \b\b\\ \b\b| \b\b/ \b\b- \b\b\\ \b\b| \b\b/ \b\b- \b\b\\ \b\b| \b\b/ \b\b- \b\b\\ \b\b| \b\b/ \b\b- \b\b\\ \b\b| \b\b/ \b\b- \b\b\\ \b\b| \b\b/ \b\b- \b\b\\ \b\b| \b\b/ \b\b- \b\b\\ \b\b| \b\b/ \b\b- \b\b\\ \b\b| \b\b/ \b\b- \b\b\\ \b\b| \b\b/ \b\b- \b\b\\ \b\b| \b\b/ \b\b- \b\b\\ \b\b| \b\b/ \b\b- \b\b\\ \b\b| \b\b/ \b\b- \b\b\\ \b\b| \b\b/ \b\b- \b\b\\ \b\b| \b\b/ \b\b- \b\b\\ \b\b| \b\b/ \b\b- \b\b\\ \b\b| \b\b/ \b\b- \b\b\\ \b\b| \b\b/ \b\b- \b\b\\ \b\b| \b\b/ \b\b- \b\b\\ \b\b| \b\b/ \b\b- \b\b\\ \b\b| \b\b/ \b\b- \b\b\\ \b\b| \b\b/ \b\b- \b\b\\ \b\b| \b\b/ \b\b- \b\b\\ \b\b| \b\b/ \b\b- \b\b\\ \b\b| \b\b/ \b\b- \b\b\\ \b\b| \b\b/ \b\b- \b\b\\ \b\b| \b\b/ \b\b- \b\b\\ \b\b| \b\b/ \b\b- \b\b\\ \b\b| \b\b/ \b\b- \b\b\\ \b\b| \b\b/ \b\b- \b\b\\ \b\b| \b\b/ \b\b- \b\b\\ \b\b| \b\b/ \b\b- \b\b\\ \b\b| \b\b/ \b\b- \b\b\\ \b\b| \b\b/ \b\b- \b\b\\ \b\b| \b\b/ \b\b- \b\b\\ \b\b| \b\b/ \b\b- \b\b\\ \b\b| \b\b/ \b\b- \b\b\\ \b\b| \b\b/ \b\b- \b\b\\ \b\b| \b\b/ \b\b- \b\bdone\n",
            "Solving environment: | \b\b/ \b\b- \b\b\\ \b\b| \b\b/ \b\b- \b\b\\ \b\b| \b\b/ \b\b- \b\b\\ \b\b| \b\b/ \b\b- \b\b\\ \b\b| \b\b/ \b\b- \b\b\\ \b\b| \b\b/ \b\b- \b\b\\ \b\b| \b\b/ \b\b- \b\b\\ \b\b| \b\b/ \b\b- \b\b\\ \b\b| \b\b/ \b\b- \b\b\\ \b\b| \b\b/ \b\b- \b\b\\ \b\b| \b\b/ \b\b- \b\b\\ \b\b| \b\b/ \b\b- \b\b\\ \b\b| \b\b/ \b\b- \b\b\\ \b\b| \b\b/ \b\b- \b\b\\ \b\b| \b\b/ \b\b- \b\b\\ \b\b| \b\b/ \b\b- \b\b\\ \b\b| \b\b/ \b\b- \b\b\\ \b\b| \b\b/ \b\b- \b\b\\ \b\b| \b\b/ \b\b- \b\b\\ \b\b| \b\b/ \b\b- \b\b\\ \b\b| \b\b/ \b\b- \b\b\\ \b\b| \b\b/ \b\b- \b\b\\ \b\b| \b\b/ \b\b- \b\b\\ \b\b| \b\b/ \b\b- \b\b\\ \b\b| \b\b/ \b\b- \b\b\\ \b\b| \b\b/ \b\b- \b\b\\ \b\b| \b\b/ \b\b- \b\b\\ \b\b| \b\b/ \b\b- \b\b\\ \b\b| \b\b/ \b\bfailed with initial frozen solve. Retrying with flexible solve.\n",
            "Collecting package metadata (repodata.json): \\ \b\b| \b\b/ \b\b- \b\b\\ \b\b| \b\b/ \b\b- \b\b\\ \b\b| \b\b/ \b\b- \b\b\\ \b\b| \b\b/ \b\b- \b\b\\ \b\b| \b\b/ \b\b- \b\b\\ \b\b| \b\b/ \b\b- \b\b\\ \b\b| \b\b/ \b\b- \b\b\\ \b\b| \b\b/ \b\b- \b\b\\ \b\b| \b\b/ \b\b- \b\b\\ \b\b| \b\b/ \b\b- \b\b\\ \b\b| \b\b/ \b\b- \b\b\\ \b\b| \b\b/ \b\b- \b\b\\ \b\b| \b\b/ \b\b- \b\b\\ \b\b| \b\b/ \b\b- \b\b\\ \b\b| \b\b/ \b\b- \b\b\\ \b\b| \b\b/ \b\b- \b\b\\ \b\b| \b\b/ \b\b- \b\b\\ \b\b| \b\b/ \b\b- \b\b\\ \b\b| \b\b/ \b\b- \b\b\\ \b\b| \b\b/ \b\b- \b\b\\ \b\b| \b\b/ \b\b- \b\b\\ \b\b| \b\b/ \b\b- \b\b\\ \b\b| \b\b/ \b\b- \b\b\\ \b\b| \b\b/ \b\b- \b\b\\ \b\b| \b\b/ \b\b- \b\b\\ \b\b| \b\b/ \b\b- \b\b\\ \b\b| \b\b/ \b\b- \b\b\\ \b\b| \b\b/ \b\b- \b\b\\ \b\b| \b\b/ \b\b- \b\b\\ \b\b| \b\b/ \b\b- \b\b\\ \b\b| \b\b/ \b\b- \b\b\\ \b\b| \b\b/ \b\b- \b\b\\ \b\b| \b\b/ \b\b- \b\b\\ \b\b| \b\b/ \b\b- \b\b\\ \b\b| \b\b/ \b\b- \b\b\\ \b\b| \b\b/ \b\b- \b\b\\ \b\b| \b\b/ \b\b- \b\b\\ \b\b| \b\b/ \b\b- \b\b\\ \b\b| \b\b/ \b\b- \b\b\\ \b\b| \b\b/ \b\b- \b\b\\ \b\b| \b\b/ \b\b- \b\b\\ \b\b| \b\b/ \b\b- \b\b\\ \b\b| \b\b/ \b\b- \b\b\\ \b\b| \b\b/ \b\b- \b\b\\ \b\b| \b\b/ \b\b- \b\b\\ \b\b| \b\b/ \b\b- \b\b\\ \b\b| \b\b/ \b\b- \b\b\\ \b\b| \b\b/ \b\b- \b\b\\ \b\b| \b\b/ \b\b- \b\b\\ \b\b| \b\b/ \b\b- \b\b\\ \b\b| \b\b/ \b\b- \b\b\\ \b\b| \b\b/ \b\b- \b\b\\ \b\b| \b\b/ \b\b- \b\b\\ \b\b| \b\b/ \b\b- \b\b\\ \b\b| \b\b/ \b\b- \b\b\\ \b\b| \b\b/ \b\b- \b\b\\ \b\b| \b\b/ \b\b- \b\b\\ \b\b| \b\b/ \b\b- \b\b\\ \b\b| \b\b/ \b\b- \b\b\\ \b\b| \b\b/ \b\b- \b\b\\ \b\b| \b\b/ \b\b- \b\b\\ \b\b| \b\b/ \b\b- \b\b\\ \b\b| \b\b/ \b\b- \b\b\\ \b\b| \b\b/ \b\b- \b\b\\ \b\b| \b\b/ \b\b- \b\b\\ \b\b| \b\b/ \b\b- \b\b\\ \b\b| \b\b/ \b\b- \b\b\\ \b\b| \b\b/ \b\b- \b\b\\ \b\b| \b\b/ \b\b- \b\b\\ \b\b| \b\b/ \b\b- \b\b\\ \b\b| \b\b/ \b\b- \b\b\\ \b\b| \b\b/ \b\b- \b\b\\ \b\b| \b\b/ \b\b- \b\b\\ \b\b| \b\b/ \b\b- \b\b\\ \b\b| \b\b/ \b\b- \b\b\\ \b\b| \b\b/ \b\b- \b\b\\ \b\b| \b\b/ \b\b- \b\b\\ \b\b| \b\b/ \b\b- \b\b\\ \b\b| \b\b/ \b\b- \b\b\\ \b\b| \b\b/ \b\b- \b\b\\ \b\b| \b\b/ \b\b- \b\b\\ \b\b| \b\b/ \b\b- \b\b\\ \b\b| \b\b/ \b\b- \b\b\\ \b\b| \b\b/ \b\b- \b\b\\ \b\b| \b\b/ \b\b- \b\b\\ \b\b| \b\b/ \b\b- \b\b\\ \b\b| \b\b/ \b\b- \b\b\\ \b\b| \b\b/ \b\b- \b\b\\ \b\b| \b\b/ \b\b- \b\b\\ \b\b| \b\b/ \b\b- \b\b\\ \b\b| \b\b/ \b\b- \b\b\\ \b\b| \b\b/ \b\b- \b\b\\ \b\b| \b\b/ \b\b- \b\b\\ \b\b| \b\b/ \b\b- \b\b\\ \b\b| \b\b/ \b\b- \b\b\\ \b\b| \b\b/ \b\b- \b\b\\ \b\b| \b\b/ \b\b- \b\b\\ \b\b| \b\b/ \b\b- \b\b\\ \b\b| \b\b/ \b\b- \b\b\\ \b\b| \b\b/ \b\b- \b\b\\ \b\b| \b\b/ \b\b- \b\b\\ \b\b| \b\b/ \b\b- \b\b\\ \b\b| \b\b/ \b\b- \b\b\\ \b\b| \b\b/ \b\b- \b\b\\ \b\b| \b\b/ \b\b- \b\b\\ \b\b| \b\b/ \b\b- \b\b\\ \b\b| \b\b/ \b\b- \b\b\\ \b\b| \b\b/ \b\b- \b\b\\ \b\b| \b\b/ \b\b- \b\b\\ \b\b| \b\b/ \b\b- \b\b\\ \b\b| \b\b/ \b\b- \b\b\\ \b\b| \b\b/ \b\b- \b\b\\ \b\b| \b\b/ \b\b- \b\b\\ \b\b| \b\b/ \b\b- \b\b\\ \b\b| \b\b/ \b\b- \b\b\\ \b\b| \b\b/ \b\b- \b\b\\ \b\b| \b\b/ \b\b- \b\b\\ \b\b| \b\b/ \b\b- \b\b\\ \b\b| \b\b/ \b\b- \b\b\\ \b\b| \b\b/ \b\b- \b\b\\ \b\b| \b\b/ \b\b- \b\b\\ \b\b| \b\b/ \b\b- \b\b\\ \b\b| \b\b/ \b\b- \b\b\\ \b\b| \b\b/ \b\b- \b\b\\ \b\b| \b\b/ \b\b- \b\b\\ \b\b| \b\b/ \b\b- \b\b\\ \b\b| \b\b/ \b\b- \b\b\\ \b\b| \b\b/ \b\b- \b\b\\ \b\b| \b\b/ \b\b- \b\b\\ \b\b| \b\b/ \b\b- \b\b\\ \b\b| \b\b/ \b\b- \b\b\\ \b\b| \b\b/ \b\b- \b\b\\ \b\b| \b\b/ \b\b- \b\b\\ \b\b| \b\b/ \b\b- \b\b\\ \b\b| \b\b/ \b\b- \b\b\\ \b\b| \b\b/ \b\b- \b\b\\ \b\b| \b\b/ \b\b- \b\b\\ \b\b| \b\b/ \b\b- \b\b\\ \b\b| \b\b/ \b\b- \b\b\\ \b\b| \b\b/ \b\b- \b\b\\ \b\b| \b\b/ \b\b- \b\b\\ \b\b| \b\b/ \b\b- \b\b\\ \b\b| \b\b/ \b\b- \b\b\\ \b\b| \b\b/ \b\b- \b\b\\ \b\b| \b\b/ \b\b- \b\b\\ \b\b| \b\b/ \b\b- \b\b\\ \b\b| \b\b/ \b\b- \b\b\\ \b\b| \b\b/ \b\b- \b\b\\ \b\b| \b\b/ \b\b- \b\b\\ \b\b| \b\b/ \b\b- \b\b\\ \b\b| \b\b/ \b\b- \b\b\\ \b\b| \b\b/ \b\b- \b\b\\ \b\b| \b\b/ \b\b- \b\b\\ \b\b| \b\b/ \b\b- \b\b\\ \b\b| \b\b/ \b\b- \b\b\\ \b\b| \b\b/ \b\b- \b\b\\ \b\b| \b\b/ \b\b- \b\b\\ \b\b| \b\b/ \b\b- \b\b\\ \b\b| \b\b/ \b\b- \b\b\\ \b\b| \b\b/ \b\b- \b\b\\ \b\b| \b\b/ \b\b- \b\b\\ \b\b| \b\b/ \b\b- \b\b\\ \b\b| \b\b/ \b\b- \b\b\\ \b\b| \b\b/ \b\b- \b\b\\ \b\b| \b\b/ \b\b- \b\b\\ \b\b| \b\b/ \b\b- \b\b\\ \b\b| \b\b/ \b\b- \b\b\\ \b\b| \b\b/ \b\b- \b\b\\ \b\b| \b\b/ \b\b- \b\b\\ \b\b| \b\b/ \b\b- \b\b\\ \b\b| \b\b/ \b\b- \b\b\\ \b\b| \b\bdone\n",
            "Solving environment: - \b\b\\ \b\b| \b\b/ \b\b- \b\b\\ \b\b| \b\b/ \b\b- \b\b\\ \b\b| \b\b/ \b\b- \b\b\\ \b\b| \b\b/ \b\b- \b\b\\ \b\b| \b\b/ \b\b- \b\b\\ \b\b| \b\b/ \b\b- \b\b\\ \b\b| \b\b/ \b\b- \b\b\\ \b\b| \b\b/ \b\b- \b\b\\ \b\b| \b\b/ \b\b- \b\b\\ \b\b| \b\b/ \b\b- \b\b\\ \b\b| \b\b/ \b\b- \b\b\\ \b\b| \b\b/ \b\b- \b\b\\ \b\b| \b\b/ \b\b- \b\b\\ \b\b| \b\b/ \b\b- \b\b\\ \b\b| \b\b/ \b\b- \b\b\\ \b\b| \b\b/ \b\b- \b\b\\ \b\b| \b\b/ \b\b- \b\b\\ \b\b| \b\b/ \b\b- \b\b\\ \b\b| \b\b/ \b\b- \b\b\\ \b\b| \b\b/ \b\b- \b\b\\ \b\b| \b\b/ \b\b- \b\b\\ \b\b| \b\b/ \b\b- \b\b\\ \b\b| \b\b/ \b\b- \b\b\\ \b\b| \b\b/ \b\b- \b\b\\ \b\b| \b\b/ \b\b- \b\b\\ \b\b| \b\b/ \b\b- \b\b\\ \b\b| \b\b/ \b\b- \b\b\\ \b\b| \b\b/ \b\b- \b\b\\ \b\b| \b\b/ \b\b- \b\b\\ \b\b| \b\b/ \b\b- \b\b\\ \b\b| \b\b/ \b\b- \b\b\\ \b\b| \b\b/ \b\b- \b\b\\ \b\b| \b\b/ \b\b- \b\b\\ \b\b| \b\b/ \b\b- \b\b\\ \b\b| \b\b/ \b\b- \b\b\\ \b\b| \b\b/ \b\b- \b\b\\ \b\b| \b\b/ \b\b- \b\b\\ \b\b| \b\b/ \b\b- \b\b\\ \b\b| \b\b/ \b\b- \b\b\\ \b\b| \b\b/ \b\b- \b\b\\ \b\b| \b\b/ \b\b- \b\b\\ \b\b| \b\b/ \b\b- \b\b\\ \b\b| \b\b/ \b\b- \b\b\\ \b\b| \b\b/ \b\b- \b\b\\ \b\b| \b\b/ \b\b- \b\b\\ \b\b| \b\b/ \b\b- \b\b\\ \b\b| \b\b/ \b\b- \b\b\\ \b\b| \b\b/ \b\b- \b\b\\ \b\b| \b\b/ \b\b- \b\b\\ \b\b| \b\b/ \b\b- \b\b\\ \b\b| \b\b/ \b\b- \b\b\\ \b\b| \b\b/ \b\b- \b\b\\ \b\b| \b\b/ \b\b- \b\b\\ \b\b| \b\b/ \b\b- \b\b\\ \b\b| \b\b/ \b\b- \b\b\\ \b\b| \b\b/ \b\b- \b\b\\ \b\b| \b\b/ \b\b- \b\b\\ \b\b| \b\b/ \b\b- \b\b\\ \b\b| \b\b/ \b\b- \b\b\\ \b\b| \b\b/ \b\b- \b\b\\ \b\b| \b\b/ \b\b- \b\b\\ \b\b| \b\b/ \b\b- \b\b\\ \b\b| \b\b/ \b\b- \b\b\\ \b\b| \b\b/ \b\b- \b\b\\ \b\b| \b\b/ \b\b- \b\b\\ \b\b| \b\b/ \b\b- \b\b\\ \b\b| \b\b/ \b\b- \b\b\\ \b\b| \b\b/ \b\b- \b\b\\ \b\b| \b\b/ \b\b- \b\b\\ \b\b| \b\b/ \b\b- \b\b\\ \b\b| \b\b/ \b\b- \b\b\\ \b\b| \b\b/ \b\b- \b\b\\ \b\b| \b\b/ \b\b- \b\b\\ \b\b| \b\b/ \b\b- \b\b\\ \b\b| \b\b/ \b\b- \b\b\\ \b\b| \b\b/ \b\b- \b\b\\ \b\b| \b\b/ \b\b- \b\b\\ \b\b| \b\b/ \b\b- \b\b\\ \b\b| \b\b/ \b\b- \b\b\\ \b\b| \b\b/ \b\b- \b\b\\ \b\b| \b\b/ \b\b- \b\b\\ \b\b| \b\b/ \b\b- \b\b\\ \b\b| \b\b/ \b\b- \b\b\\ \b\b| \b\b/ \b\b- \b\b\\ \b\b| \b\b/ \b\b- \b\b\\ \b\b| \b\b/ \b\b- \b\b\\ \b\b| \b\b/ \b\b- \b\b\\ \b\b| \b\b/ \b\b- \b\b\\ \b\b| \b\b/ \b\b- \b\b\\ \b\b| \b\b/ \b\b- \b\b\\ \b\b| \b\b/ \b\b- \b\b\\ \b\b| \b\b/ \b\b- \b\b\\ \b\b| \b\b/ \b\b- \b\b\\ \b\b| \b\b/ \b\b- \b\b\\ \b\b| \b\b/ \b\b- \b\b\\ \b\b| \b\b/ \b\b- \b\b\\ \b\b| \b\b/ \b\b- \b\b\\ \b\b| \b\b/ \b\b- \b\b\\ \b\b| \b\b/ \b\b- \b\b\\ \b\b| \b\b/ \b\b- \b\b\\ \b\b| \b\b/ \b\b- \b\b\\ \b\b| \b\b/ \b\b- \b\b\\ \b\b| \b\b/ \b\b- \b\b\\ \b\b| \b\b/ \b\b- \b\b\\ \b\b| \b\b/ \b\b- \b\b\\ \b\b| \b\b/ \b\b- \b\b\\ \b\b| \b\b/ \b\b- \b\b\\ \b\b| \b\b/ \b\b- \b\b\\ \b\b| \b\b/ \b\b- \b\b\\ \b\b| \b\b/ \b\b- \b\b\\ \b\b| \b\b/ \b\b- \b\b\\ \b\b| \b\b/ \b\b- \b\b\\ \b\b| \b\b/ \b\b- \b\b\\ \b\b| \b\b/ \b\b- \b\b\\ \b\b| \b\b/ \b\b- \b\b\\ \b\b| \b\b/ \b\b- \b\b\\ \b\b| \b\b/ \b\b- \b\b\\ \b\b| \b\b/ \b\b- \b\b\\ \b\b| \b\b/ \b\b- \b\b\\ \b\b| \b\b/ \b\b- \b\b\\ \b\b| \b\b/ \b\b- \b\b\\ \b\b| \b\b/ \b\b- \b\b\\ \b\b| \b\b/ \b\b- \b\b\\ \b\b| \b\b/ \b\b- \b\b\\ \b\b| \b\b/ \b\b- \b\b\\ \b\b| \b\b/ \b\b- \b\b\\ \b\b| \b\b/ \b\b- \b\b\\ \b\b| \b\b/ \b\b- \b\b\\ \b\b| \b\b/ \b\b- \b\b\\ \b\b| \b\b/ \b\b- \b\b\\ \b\b| \b\b/ \b\b- \b\b\\ \b\b| \b\b/ \b\b- \b\b\\ \b\b| \b\b/ \b\b- \b\b\\ \b\b| \b\b/ \b\b- \b\b\\ \b\b| \b\b/ \b\b- \b\b\\ \b\b| \b\b/ \b\b- \b\b\\ \b\b| \b\b/ \b\b- \b\b\\ \b\b| \b\b/ \b\b- \b\b\\ \b\b| \b\b/ \b\b- \b\b\\ \b\b| \b\b/ \b\b- \b\b\\ \b\b| \b\b/ \b\b- \b\b\\ \b\b| \b\b/ \b\b- \b\b\\ \b\b| \b\b/ \b\b- \b\b\\ \b\b| \b\b/ \b\b- \b\b\\ \b\b| \b\b/ \b\b- \b\b\\ \b\b| \b\b/ \b\b- \b\b\\ \b\b| \b\b/ \b\b- \b\b\\ \b\b| \b\b/ \b\b- \b\b\\ \b\b| \b\b/ \b\b- \b\b\\ \b\b| \b\b/ \b\b- \b\b\\ \b\b| \b\b/ \b\b- \b\b\\ \b\b| \b\b/ \b\b- \b\b\\ \b\b| \b\b/ \b\b- \b\b\\ \b\b| \b\b/ \b\b- \b\b\\ \b\b| \b\b/ \b\b- \b\b\\ \b\b| \b\b/ \b\b- \b\b\\ \b\b| \b\b/ \b\b- \b\b\\ \b\b| \b\b/ \b\b- \b\b\\ \b\b| \b\b/ \b\b- \b\b\\ \b\b| \b\b/ \b\b- \b\b\\ \b\b| \b\b/ \b\b- \b\b\\ \b\b| \b\b/ \b\b- \b\b\\ \b\b| \b\b/ \b\b- \b\b\\ \b\b| \b\b/ \b\b- \b\b\\ \b\b| \b\b/ \b\b- \b\b\\ \b\b| \b\b/ \b\b- \b\b\\ \b\b| \b\b/ \b\b- \b\b\\ \b\b| \b\b/ \b\b- \b\b\\ \b\b| \b\b/ \b\b- \b\b\\ \b\b| \b\b/ \b\b- \b\b\\ \b\b| \b\b/ \b\b- \b\b\\ \b\b| \b\b/ \b\b- \b\b\\ \b\b| \b\b/ \b\b- \b\b\\ \b\b| \b\b/ \b\b- \b\bdone\n",
            "\n",
            "## Package Plan ##\n",
            "\n",
            "  environment location: /usr/local\n",
            "\n",
            "  added / updated specs:\n",
            "    - root\n",
            "\n",
            "\n",
            "The following packages will be downloaded:\n",
            "\n",
            "    package                    |            build\n",
            "    ---------------------------|-----------------\n",
            "    _sysroot_linux-64_curr_repodata_hack-3|      h5bd9786_13          14 KB  conda-forge\n",
            "    afterimage-1.21            |    ha9998ff_1003         718 KB  conda-forge\n",
            "    anyio-3.6.2                |     pyhd8ed1ab_0          83 KB  conda-forge\n",
            "    argon2-cffi-21.3.0         |     pyhd8ed1ab_0          15 KB  conda-forge\n",
            "    argon2-cffi-bindings-21.2.0|   py38h0a891b7_3          35 KB  conda-forge\n",
            "    asttokens-2.2.1            |     pyhd8ed1ab_0          27 KB  conda-forge\n",
            "    atk-1.0-2.38.0             |       hd4edc92_1         539 KB  conda-forge\n",
            "    attrs-22.2.0               |     pyh71513ae_0          53 KB  conda-forge\n",
            "    backcall-0.2.0             |     pyh9f0ad1d_0          13 KB  conda-forge\n",
            "    backports-1.0              |     pyhd8ed1ab_3           6 KB  conda-forge\n",
            "    backports.functools_lru_cache-1.6.4|     pyhd8ed1ab_0           9 KB  conda-forge\n",
            "    beautifulsoup4-4.11.2      |     pyha770c72_0         102 KB  conda-forge\n",
            "    binutils-2.39              |       hdd6e379_1          29 KB  conda-forge\n",
            "    binutils_impl_linux-64-2.39|       he00db2b_1         4.7 MB  conda-forge\n",
            "    binutils_linux-64-2.39     |      h5fc0e48_11          24 KB  conda-forge\n",
            "    bleach-6.0.0               |     pyhd8ed1ab_0         128 KB  conda-forge\n",
            "    c-compiler-1.5.1           |       h166bdaf_0           5 KB  conda-forge\n",
            "    ca-certificates-2022.12.7  |       ha878542_0         143 KB  conda-forge\n",
            "    cairo-1.16.0               |    ha61ee94_1014         1.5 MB  conda-forge\n",
            "    certifi-2022.12.7          |     pyhd8ed1ab_0         147 KB  conda-forge\n",
            "    cfitsio-4.1.0              |       hd9d235c_0         1.3 MB  conda-forge\n",
            "    colorama-0.4.6             |     pyhd8ed1ab_0          25 KB  conda-forge\n",
            "    comm-0.1.2                 |     pyhd8ed1ab_0          11 KB  conda-forge\n",
            "    compilers-1.5.1            |       ha770c72_0           5 KB  conda-forge\n",
            "    conda-22.11.1              |   py38h578d9bd_1         905 KB  conda-forge\n",
            "    cudatoolkit-11.6.0         |      hecad31d_11       542.1 MB  conda-forge\n",
            "    cxx-compiler-1.5.1         |       h924138e_0           5 KB  conda-forge\n",
            "    davix-0.8.4                |       h238e42b_0         1.1 MB  conda-forge\n",
            "    debugpy-1.6.6              |   py38h8dc9893_0         1.8 MB  conda-forge\n",
            "    decorator-5.1.1            |     pyhd8ed1ab_0          12 KB  conda-forge\n",
            "    defusedxml-0.7.1           |     pyhd8ed1ab_0          23 KB  conda-forge\n",
            "    entrypoints-0.4            |     pyhd8ed1ab_0           9 KB  conda-forge\n",
            "    executing-1.2.0            |     pyhd8ed1ab_0          24 KB  conda-forge\n",
            "    expat-2.5.0                |       h27087fc_0         189 KB  conda-forge\n",
            "    fftw-3.3.10                |nompi_hf0379b8_106         2.1 MB  conda-forge\n",
            "    flit-core-3.8.0            |     pyhd8ed1ab_0          45 KB  conda-forge\n",
            "    font-ttf-dejavu-sans-mono-2.37|       hab24e00_0         388 KB  conda-forge\n",
            "    font-ttf-inconsolata-3.000 |       h77eed37_0          94 KB  conda-forge\n",
            "    font-ttf-source-code-pro-2.038|       h77eed37_0         684 KB  conda-forge\n",
            "    font-ttf-ubuntu-0.83       |       hab24e00_0         1.9 MB  conda-forge\n",
            "    fontconfig-2.14.2          |       h14ed4e7_0         266 KB  conda-forge\n",
            "    fonts-conda-ecosystem-1    |                0           4 KB  conda-forge\n",
            "    fonts-conda-forge-1        |                0           4 KB  conda-forge\n",
            "    fortran-compiler-1.5.1     |       h2a4ca65_0           5 KB  conda-forge\n",
            "    freetype-2.12.1            |       hca18f0e_1         611 KB  conda-forge\n",
            "    fribidi-1.0.10             |       h36c2ea0_0         112 KB  conda-forge\n",
            "    ftgl-2.4.0                 |       hbcb1f35_0         112 KB  conda-forge\n",
            "    gcc-10.4.0                 |      hb92f740_11          24 KB  conda-forge\n",
            "    gcc_impl_linux-64-10.4.0   |      h5231bdf_19        46.7 MB  conda-forge\n",
            "    gcc_linux-64-10.4.0        |      h9215b83_11          25 KB  conda-forge\n",
            "    gdk-pixbuf-2.42.8          |       hff1cb4f_1         598 KB  conda-forge\n",
            "    gettext-0.21.1             |       h27087fc_0         4.1 MB  conda-forge\n",
            "    gfortran-10.4.0            |      h0c96582_11          24 KB  conda-forge\n",
            "    gfortran_impl_linux-64-10.4.0|      h7d168d2_19        14.8 MB  conda-forge\n",
            "    gfortran_linux-64-10.4.0   |      h69d5af5_11          24 KB  conda-forge\n",
            "    giflib-5.2.1               |       h36c2ea0_2          77 KB  conda-forge\n",
            "    gl2ps-1.4.2                |       h0708190_0         147 KB  conda-forge\n",
            "    glew-2.1.0                 |       h9c3ff4c_2         647 KB  conda-forge\n",
            "    graphite2-1.3.13           |    h58526e2_1001         102 KB  conda-forge\n",
            "    graphviz-6.0.2             |       h99bc08f_0         2.2 MB  conda-forge\n",
            "    gsl-2.7                    |       he838d99_0         3.2 MB  conda-forge\n",
            "    gsoap-2.8.123              |       h8dc497d_0         1.8 MB  conda-forge\n",
            "    gtk2-2.24.33               |       h90689f9_2         7.4 MB  conda-forge\n",
            "    gts-0.7.6                  |       h64030ff_2         411 KB  conda-forge\n",
            "    gxx-10.4.0                 |      hb92f740_11          24 KB  conda-forge\n",
            "    gxx_impl_linux-64-10.4.0   |      h5231bdf_19        11.5 MB  conda-forge\n",
            "    gxx_linux-64-10.4.0        |      h6e491c6_11          25 KB  conda-forge\n",
            "    harfbuzz-6.0.0             |       h8e241bc_0         1.2 MB  conda-forge\n",
            "    importlib-metadata-6.0.0   |     pyha770c72_0          24 KB  conda-forge\n",
            "    importlib_metadata-6.0.0   |       hd8ed1ab_0           9 KB  conda-forge\n",
            "    importlib_resources-5.12.0 |     pyhd8ed1ab_0          30 KB  conda-forge\n",
            "    ipykernel-6.21.2           |     pyh210e3f2_0         108 KB  conda-forge\n",
            "    ipyparallel-8.4.1          |     pyhd8ed1ab_0         199 KB  conda-forge\n",
            "    ipython-8.10.0             |     pyh41d4057_0         560 KB  conda-forge\n",
            "    ipython_genutils-0.2.0     |             py_1          21 KB  conda-forge\n",
            "    jedi-0.18.2                |     pyhd8ed1ab_0         786 KB  conda-forge\n",
            "    jinja2-3.1.2               |     pyhd8ed1ab_1          99 KB  conda-forge\n",
            "    jpeg-9e                    |       h0b41bf4_3         235 KB  conda-forge\n",
            "    jsonschema-4.17.3          |     pyhd8ed1ab_0          69 KB  conda-forge\n",
            "    jupyter_client-8.0.3       |     pyhd8ed1ab_0         101 KB  conda-forge\n",
            "    jupyter_core-5.2.0         |   py38h578d9bd_0          89 KB  conda-forge\n",
            "    jupyter_events-0.6.3       |     pyhd8ed1ab_0          75 KB  conda-forge\n",
            "    jupyter_server-2.3.0       |     pyhd8ed1ab_0         300 KB  conda-forge\n",
            "    jupyter_server_terminals-0.4.4|     pyhd8ed1ab_1          19 KB  conda-forge\n",
            "    jupyterlab_pygments-0.2.2  |     pyhd8ed1ab_0          17 KB  conda-forge\n",
            "    kernel-headers_linux-64-3.10.0|      h4a8ded7_13         953 KB  conda-forge\n",
            "    lerc-4.0.0                 |       h27087fc_0         275 KB  conda-forge\n",
            "    libblas-3.9.0              |16_linux64_openblas          13 KB  conda-forge\n",
            "    libcblas-3.9.0             |16_linux64_openblas          13 KB  conda-forge\n",
            "    libcxx-14.0.6              |       hf52228f_0         1.5 MB  conda-forge\n",
            "    libcxxabi-14.0.6           |       ha770c72_0         185 KB  conda-forge\n",
            "    libdeflate-1.14            |       h166bdaf_0          81 KB  conda-forge\n",
            "    libgcc-devel_linux-64-10.4.0|      hd38fd1e_19         3.3 MB  conda-forge\n",
            "    libgd-2.3.3                |       h18fbbfe_3         266 KB  conda-forge\n",
            "    libgfortran-ng-12.2.0      |      h69a702a_19          22 KB  conda-forge\n",
            "    libgfortran5-12.2.0        |      h337968e_19         1.8 MB  conda-forge\n",
            "    libglib-2.74.1             |       h606061b_1         3.1 MB  conda-forge\n",
            "    libglu-9.0.0               |    he1b5a44_1001         413 KB  conda-forge\n",
            "    libhwloc-2.8.0             |       h32351e8_1         3.0 MB  conda-forge\n",
            "    liblapack-3.9.0            |16_linux64_openblas          13 KB  conda-forge\n",
            "    libllvm11-11.1.0           |       he0ac6c6_5        28.8 MB  conda-forge\n",
            "    libllvm9-9.0.1             |default_hc23dcda_7        25.6 MB  conda-forge\n",
            "    libopenblas-0.3.21         |pthreads_h78a6416_3        10.1 MB  conda-forge\n",
            "    libpng-1.6.39              |       h753d276_0         276 KB  conda-forge\n",
            "    librsvg-2.54.4             |       h7abd40a_0         6.4 MB  conda-forge\n",
            "    libsanitizer-10.4.0        |      h5246dfb_19         6.0 MB  conda-forge\n",
            "    libsodium-1.0.18           |       h36c2ea0_1         366 KB  conda-forge\n",
            "    libstdcxx-devel_linux-64-10.4.0|      hd38fd1e_19         9.6 MB  conda-forge\n",
            "    libtiff-4.4.0              |       h82bc61c_5         473 KB  conda-forge\n",
            "    libtool-2.4.7              |       h27087fc_0         402 KB  conda-forge\n",
            "    libwebp-1.2.4              |       h522a892_0          87 KB  conda-forge\n",
            "    libwebp-base-1.2.4         |       h166bdaf_0         404 KB  conda-forge\n",
            "    libxcb-1.13                |    h7f98852_1004         391 KB  conda-forge\n",
            "    llvmlite-0.39.1            |   py38h38d86a4_1         2.5 MB  conda-forge\n",
            "    markupsafe-2.1.2           |   py38h1de0b5d_0          23 KB  conda-forge\n",
            "    matplotlib-inline-0.1.6    |     pyhd8ed1ab_0          12 KB  conda-forge\n",
            "    metakernel-0.29.4          |     pyhd8ed1ab_0         182 KB  conda-forge\n",
            "    mistune-2.0.5              |     pyhd8ed1ab_0          73 KB  conda-forge\n",
            "    nbclassic-0.5.2            |     pyhd8ed1ab_0         5.4 MB  conda-forge\n",
            "    nbclient-0.7.2             |     pyhd8ed1ab_0          60 KB  conda-forge\n",
            "    nbconvert-7.2.9            |     pyhd8ed1ab_0           8 KB  conda-forge\n",
            "    nbconvert-core-7.2.9       |     pyhd8ed1ab_0         195 KB  conda-forge\n",
            "    nbconvert-pandoc-7.2.9     |     pyhd8ed1ab_0           6 KB  conda-forge\n",
            "    nbformat-5.7.3             |     pyhd8ed1ab_0          98 KB  conda-forge\n",
            "    nest-asyncio-1.5.6         |     pyhd8ed1ab_0          10 KB  conda-forge\n",
            "    nlohmann_json-3.11.2       |       h27087fc_0         112 KB  conda-forge\n",
            "    notebook-6.5.2             |     pyha770c72_1         267 KB  conda-forge\n",
            "    notebook-shim-0.2.2        |     pyhd8ed1ab_0          15 KB  conda-forge\n",
            "    numba-0.56.4               |   py38h9a4aae9_0         3.5 MB  conda-forge\n",
            "    numpy-1.23.5               |   py38h7042d01_0         5.6 MB  conda-forge\n",
            "    openssl-3.0.8              |       h0b41bf4_0         2.5 MB  conda-forge\n",
            "    packaging-23.0             |     pyhd8ed1ab_0          40 KB  conda-forge\n",
            "    pandoc-2.19.2              |       h32600fe_1        30.0 MB  conda-forge\n",
            "    pandocfilters-1.5.0        |     pyhd8ed1ab_0          11 KB  conda-forge\n",
            "    pango-1.50.13              |       hd33c08f_0         427 KB  conda-forge\n",
            "    parso-0.8.3                |     pyhd8ed1ab_0          69 KB  conda-forge\n",
            "    pcre-8.45                  |       h9c3ff4c_0         253 KB  conda-forge\n",
            "    pcre2-10.40                |       hc3806b6_0         2.3 MB  conda-forge\n",
            "    pexpect-4.8.0              |     pyh1a96a4e_2          48 KB  conda-forge\n",
            "    pickleshare-0.7.5          |          py_1003           9 KB  conda-forge\n",
            "    pixman-0.40.0              |       h36c2ea0_0         627 KB  conda-forge\n",
            "    pkgutil-resolve-name-1.3.10|     pyhd8ed1ab_0           9 KB  conda-forge\n",
            "    platformdirs-3.0.0         |     pyhd8ed1ab_0          17 KB  conda-forge\n",
            "    pluggy-1.0.0               |     pyhd8ed1ab_5          16 KB  conda-forge\n",
            "    portalocker-2.7.0          |   py38h578d9bd_0          31 KB  conda-forge\n",
            "    prometheus_client-0.16.0   |     pyhd8ed1ab_0          51 KB  conda-forge\n",
            "    prompt-toolkit-3.0.36      |     pyha770c72_0         265 KB  conda-forge\n",
            "    psutil-5.9.4               |   py38h0a891b7_0         348 KB  conda-forge\n",
            "    pthread-stubs-0.4          |    h36c2ea0_1001           5 KB  conda-forge\n",
            "    ptyprocess-0.7.0           |     pyhd3deb0d_0          16 KB  conda-forge\n",
            "    pure_eval-0.2.2            |     pyhd8ed1ab_0          14 KB  conda-forge\n",
            "    pygments-2.14.0            |     pyhd8ed1ab_0         805 KB  conda-forge\n",
            "    pyrsistent-0.19.3          |   py38h1de0b5d_0          97 KB  conda-forge\n",
            "    pythia8-8.307              |   py38hfa26641_0        31.3 MB  conda-forge\n",
            "    python-dateutil-2.8.2      |     pyhd8ed1ab_0         240 KB  conda-forge\n",
            "    python-fastjsonschema-2.16.2|     pyhd8ed1ab_0         242 KB  conda-forge\n",
            "    python-json-logger-2.0.6   |     pyhd8ed1ab_0          13 KB  conda-forge\n",
            "    pyyaml-6.0                 |   py38h0a891b7_5         183 KB  conda-forge\n",
            "    pyzmq-25.0.0               |   py38he24dcef_0         431 KB  conda-forge\n",
            "    rfc3339-validator-0.1.4    |     pyhd8ed1ab_0           8 KB  conda-forge\n",
            "    rfc3986-validator-0.1.1    |     pyh9f0ad1d_0           8 KB  conda-forge\n",
            "    root-6.26.8                |   py38h8f669ce_1          29 KB  conda-forge\n",
            "    root_base-6.26.8           |   py38h69c3293_1       249.9 MB  conda-forge\n",
            "    ruamel.yaml-0.17.21        |   py38h0a891b7_2         172 KB  conda-forge\n",
            "    ruamel.yaml.clib-0.2.7     |   py38h1de0b5d_1         143 KB  conda-forge\n",
            "    scitokens-cpp-0.7.1        |       hf3971a6_0         2.1 MB  conda-forge\n",
            "    send2trash-1.8.0           |     pyhd8ed1ab_0          17 KB  conda-forge\n",
            "    six-1.16.0                 |     pyh6c4a22f_0          14 KB  conda-forge\n",
            "    sniffio-1.3.0              |     pyhd8ed1ab_0          14 KB  conda-forge\n",
            "    soupsieve-2.3.2.post1      |     pyhd8ed1ab_0          34 KB  conda-forge\n",
            "    sqlite-3.40.0              |       h4ff8645_0         801 KB  conda-forge\n",
            "    stack_data-0.6.2           |     pyhd8ed1ab_0          26 KB  conda-forge\n",
            "    sysroot_linux-64-2.17      |      h4a8ded7_13        34.1 MB  conda-forge\n",
            "    tbb-2021.7.0               |       h924138e_1         1.5 MB  conda-forge\n",
            "    terminado-0.17.1           |     pyh41d4057_0          20 KB  conda-forge\n",
            "    tinycss2-1.2.1             |     pyhd8ed1ab_0          23 KB  conda-forge\n",
            "    tornado-6.2                |   py38h0a891b7_1         654 KB  conda-forge\n",
            "    tqdm-4.64.1                |     pyhd8ed1ab_0          82 KB  conda-forge\n",
            "    traitlets-5.9.0            |     pyhd8ed1ab_0          96 KB  conda-forge\n",
            "    typing-extensions-4.4.0    |       hd8ed1ab_0           8 KB  conda-forge\n",
            "    typing_extensions-4.4.0    |     pyha770c72_0          29 KB  conda-forge\n",
            "    vdt-0.4.3                  |       h9c3ff4c_0          30 KB  conda-forge\n",
            "    vector-classes-1.4.3       |       h924138e_0         274 KB  conda-forge\n",
            "    wcwidth-0.2.6              |     pyhd8ed1ab_0          28 KB  conda-forge\n",
            "    webencodings-0.5.1         |             py_1          12 KB  conda-forge\n",
            "    websocket-client-1.5.1     |     pyhd8ed1ab_0          43 KB  conda-forge\n",
            "    xorg-fixesproto-5.0        |    h7f98852_1002           9 KB  conda-forge\n",
            "    xorg-kbproto-1.0.7         |    h7f98852_1002          27 KB  conda-forge\n",
            "    xorg-libice-1.0.10         |       h7f98852_0          58 KB  conda-forge\n",
            "    xorg-libsm-1.2.3           |    hd9c2040_1000          26 KB  conda-forge\n",
            "    xorg-libx11-1.6.12         |       h36c2ea0_0         919 KB  conda-forge\n",
            "    xorg-libxau-1.0.9          |       h7f98852_0          13 KB  conda-forge\n",
            "    xorg-libxcursor-1.2.0      |       h516909a_0          30 KB  conda-forge\n",
            "    xorg-libxdmcp-1.1.3        |       h7f98852_0          19 KB  conda-forge\n",
            "    xorg-libxext-1.3.4         |       h516909a_0          51 KB  conda-forge\n",
            "    xorg-libxfixes-5.0.3       |    h516909a_1004          17 KB  conda-forge\n",
            "    xorg-libxft-2.3.4          |       hc534e41_1          54 KB  conda-forge\n",
            "    xorg-libxpm-3.5.13         |       h516909a_0          63 KB  conda-forge\n",
            "    xorg-libxrender-0.9.10     |    h516909a_1002          31 KB  conda-forge\n",
            "    xorg-libxt-1.1.5           |    h516909a_1003         367 KB  conda-forge\n",
            "    xorg-renderproto-0.11.1    |    h7f98852_1002           9 KB  conda-forge\n",
            "    xorg-xextproto-7.3.0       |    h7f98852_1002          28 KB  conda-forge\n",
            "    xorg-xproto-7.0.31         |    h7f98852_1007          73 KB  conda-forge\n",
            "    xrootd-5.5.1               |   py38h7473b47_2         5.4 MB  conda-forge\n",
            "    xxhash-0.8.0               |       h7f98852_3          86 KB  conda-forge\n",
            "    zeromq-4.3.4               |       h9c3ff4c_1         351 KB  conda-forge\n",
            "    zipp-3.14.0                |     pyhd8ed1ab_0          17 KB  conda-forge\n",
            "    zlib-1.2.13                |       h166bdaf_4          92 KB  conda-forge\n",
            "    ------------------------------------------------------------\n",
            "                                           Total:        1.12 GB\n",
            "\n",
            "The following NEW packages will be INSTALLED:\n",
            "\n",
            "  _sysroot_linux-64~ conda-forge/noarch::_sysroot_linux-64_curr_repodata_hack-3-h5bd9786_13 None\n",
            "  afterimage         conda-forge/linux-64::afterimage-1.21-ha9998ff_1003 None\n",
            "  anyio              conda-forge/noarch::anyio-3.6.2-pyhd8ed1ab_0 None\n",
            "  argon2-cffi        conda-forge/noarch::argon2-cffi-21.3.0-pyhd8ed1ab_0 None\n",
            "  argon2-cffi-bindi~ conda-forge/linux-64::argon2-cffi-bindings-21.2.0-py38h0a891b7_3 None\n",
            "  asttokens          conda-forge/noarch::asttokens-2.2.1-pyhd8ed1ab_0 None\n",
            "  atk-1.0            conda-forge/linux-64::atk-1.0-2.38.0-hd4edc92_1 None\n",
            "  attrs              conda-forge/noarch::attrs-22.2.0-pyh71513ae_0 None\n",
            "  backcall           conda-forge/noarch::backcall-0.2.0-pyh9f0ad1d_0 None\n",
            "  backports          conda-forge/noarch::backports-1.0-pyhd8ed1ab_3 None\n",
            "  backports.functoo~ conda-forge/noarch::backports.functools_lru_cache-1.6.4-pyhd8ed1ab_0 None\n",
            "  beautifulsoup4     conda-forge/noarch::beautifulsoup4-4.11.2-pyha770c72_0 None\n",
            "  binutils           conda-forge/linux-64::binutils-2.39-hdd6e379_1 None\n",
            "  binutils_impl_lin~ conda-forge/linux-64::binutils_impl_linux-64-2.39-he00db2b_1 None\n",
            "  binutils_linux-64  conda-forge/linux-64::binutils_linux-64-2.39-h5fc0e48_11 None\n",
            "  bleach             conda-forge/noarch::bleach-6.0.0-pyhd8ed1ab_0 None\n",
            "  c-compiler         conda-forge/linux-64::c-compiler-1.5.1-h166bdaf_0 None\n",
            "  cairo              conda-forge/linux-64::cairo-1.16.0-ha61ee94_1014 None\n",
            "  cfitsio            conda-forge/linux-64::cfitsio-4.1.0-hd9d235c_0 None\n",
            "  colorama           conda-forge/noarch::colorama-0.4.6-pyhd8ed1ab_0 None\n",
            "  comm               conda-forge/noarch::comm-0.1.2-pyhd8ed1ab_0 None\n",
            "  compilers          conda-forge/linux-64::compilers-1.5.1-ha770c72_0 None\n",
            "  cudatoolkit        conda-forge/linux-64::cudatoolkit-11.6.0-hecad31d_11 None\n",
            "  cxx-compiler       conda-forge/linux-64::cxx-compiler-1.5.1-h924138e_0 None\n",
            "  davix              conda-forge/linux-64::davix-0.8.4-h238e42b_0 None\n",
            "  debugpy            conda-forge/linux-64::debugpy-1.6.6-py38h8dc9893_0 None\n",
            "  decorator          conda-forge/noarch::decorator-5.1.1-pyhd8ed1ab_0 None\n",
            "  defusedxml         conda-forge/noarch::defusedxml-0.7.1-pyhd8ed1ab_0 None\n",
            "  entrypoints        conda-forge/noarch::entrypoints-0.4-pyhd8ed1ab_0 None\n",
            "  executing          conda-forge/noarch::executing-1.2.0-pyhd8ed1ab_0 None\n",
            "  expat              conda-forge/linux-64::expat-2.5.0-h27087fc_0 None\n",
            "  fftw               conda-forge/linux-64::fftw-3.3.10-nompi_hf0379b8_106 None\n",
            "  flit-core          conda-forge/noarch::flit-core-3.8.0-pyhd8ed1ab_0 None\n",
            "  font-ttf-dejavu-s~ conda-forge/noarch::font-ttf-dejavu-sans-mono-2.37-hab24e00_0 None\n",
            "  font-ttf-inconsol~ conda-forge/noarch::font-ttf-inconsolata-3.000-h77eed37_0 None\n",
            "  font-ttf-source-c~ conda-forge/noarch::font-ttf-source-code-pro-2.038-h77eed37_0 None\n",
            "  font-ttf-ubuntu    conda-forge/noarch::font-ttf-ubuntu-0.83-hab24e00_0 None\n",
            "  fontconfig         conda-forge/linux-64::fontconfig-2.14.2-h14ed4e7_0 None\n",
            "  fonts-conda-ecosy~ conda-forge/noarch::fonts-conda-ecosystem-1-0 None\n",
            "  fonts-conda-forge  conda-forge/noarch::fonts-conda-forge-1-0 None\n",
            "  fortran-compiler   conda-forge/linux-64::fortran-compiler-1.5.1-h2a4ca65_0 None\n",
            "  freetype           conda-forge/linux-64::freetype-2.12.1-hca18f0e_1 None\n",
            "  fribidi            conda-forge/linux-64::fribidi-1.0.10-h36c2ea0_0 None\n",
            "  ftgl               conda-forge/linux-64::ftgl-2.4.0-hbcb1f35_0 None\n",
            "  gcc                conda-forge/linux-64::gcc-10.4.0-hb92f740_11 None\n",
            "  gcc_impl_linux-64  conda-forge/linux-64::gcc_impl_linux-64-10.4.0-h5231bdf_19 None\n",
            "  gcc_linux-64       conda-forge/linux-64::gcc_linux-64-10.4.0-h9215b83_11 None\n",
            "  gdk-pixbuf         conda-forge/linux-64::gdk-pixbuf-2.42.8-hff1cb4f_1 None\n",
            "  gettext            conda-forge/linux-64::gettext-0.21.1-h27087fc_0 None\n",
            "  gfortran           conda-forge/linux-64::gfortran-10.4.0-h0c96582_11 None\n",
            "  gfortran_impl_lin~ conda-forge/linux-64::gfortran_impl_linux-64-10.4.0-h7d168d2_19 None\n",
            "  gfortran_linux-64  conda-forge/linux-64::gfortran_linux-64-10.4.0-h69d5af5_11 None\n",
            "  giflib             conda-forge/linux-64::giflib-5.2.1-h36c2ea0_2 None\n",
            "  gl2ps              conda-forge/linux-64::gl2ps-1.4.2-h0708190_0 None\n",
            "  glew               conda-forge/linux-64::glew-2.1.0-h9c3ff4c_2 None\n",
            "  graphite2          conda-forge/linux-64::graphite2-1.3.13-h58526e2_1001 None\n",
            "  graphviz           conda-forge/linux-64::graphviz-6.0.2-h99bc08f_0 None\n",
            "  gsl                conda-forge/linux-64::gsl-2.7-he838d99_0 None\n",
            "  gsoap              conda-forge/linux-64::gsoap-2.8.123-h8dc497d_0 None\n",
            "  gtk2               conda-forge/linux-64::gtk2-2.24.33-h90689f9_2 None\n",
            "  gts                conda-forge/linux-64::gts-0.7.6-h64030ff_2 None\n",
            "  gxx                conda-forge/linux-64::gxx-10.4.0-hb92f740_11 None\n",
            "  gxx_impl_linux-64  conda-forge/linux-64::gxx_impl_linux-64-10.4.0-h5231bdf_19 None\n",
            "  gxx_linux-64       conda-forge/linux-64::gxx_linux-64-10.4.0-h6e491c6_11 None\n",
            "  harfbuzz           conda-forge/linux-64::harfbuzz-6.0.0-h8e241bc_0 None\n",
            "  importlib-metadata conda-forge/noarch::importlib-metadata-6.0.0-pyha770c72_0 None\n",
            "  importlib_metadata conda-forge/noarch::importlib_metadata-6.0.0-hd8ed1ab_0 None\n",
            "  importlib_resourc~ conda-forge/noarch::importlib_resources-5.12.0-pyhd8ed1ab_0 None\n",
            "  ipykernel          conda-forge/noarch::ipykernel-6.21.2-pyh210e3f2_0 None\n",
            "  ipyparallel        conda-forge/noarch::ipyparallel-8.4.1-pyhd8ed1ab_0 None\n",
            "  ipython            conda-forge/noarch::ipython-8.10.0-pyh41d4057_0 None\n",
            "  ipython_genutils   conda-forge/noarch::ipython_genutils-0.2.0-py_1 None\n",
            "  jedi               conda-forge/noarch::jedi-0.18.2-pyhd8ed1ab_0 None\n",
            "  jinja2             conda-forge/noarch::jinja2-3.1.2-pyhd8ed1ab_1 None\n",
            "  jpeg               conda-forge/linux-64::jpeg-9e-h0b41bf4_3 None\n",
            "  jsonschema         conda-forge/noarch::jsonschema-4.17.3-pyhd8ed1ab_0 None\n",
            "  jupyter_client     conda-forge/noarch::jupyter_client-8.0.3-pyhd8ed1ab_0 None\n",
            "  jupyter_core       conda-forge/linux-64::jupyter_core-5.2.0-py38h578d9bd_0 None\n",
            "  jupyter_events     conda-forge/noarch::jupyter_events-0.6.3-pyhd8ed1ab_0 None\n",
            "  jupyter_server     conda-forge/noarch::jupyter_server-2.3.0-pyhd8ed1ab_0 None\n",
            "  jupyter_server_te~ conda-forge/noarch::jupyter_server_terminals-0.4.4-pyhd8ed1ab_1 None\n",
            "  jupyterlab_pygmen~ conda-forge/noarch::jupyterlab_pygments-0.2.2-pyhd8ed1ab_0 None\n",
            "  kernel-headers_li~ conda-forge/noarch::kernel-headers_linux-64-3.10.0-h4a8ded7_13 None\n",
            "  lerc               conda-forge/linux-64::lerc-4.0.0-h27087fc_0 None\n",
            "  libblas            conda-forge/linux-64::libblas-3.9.0-16_linux64_openblas None\n",
            "  libcblas           conda-forge/linux-64::libcblas-3.9.0-16_linux64_openblas None\n",
            "  libcxx             conda-forge/linux-64::libcxx-14.0.6-hf52228f_0 None\n",
            "  libcxxabi          conda-forge/linux-64::libcxxabi-14.0.6-ha770c72_0 None\n",
            "  libdeflate         conda-forge/linux-64::libdeflate-1.14-h166bdaf_0 None\n",
            "  libgcc-devel_linu~ conda-forge/linux-64::libgcc-devel_linux-64-10.4.0-hd38fd1e_19 None\n",
            "  libgd              conda-forge/linux-64::libgd-2.3.3-h18fbbfe_3 None\n",
            "  libgfortran-ng     conda-forge/linux-64::libgfortran-ng-12.2.0-h69a702a_19 None\n",
            "  libgfortran5       conda-forge/linux-64::libgfortran5-12.2.0-h337968e_19 None\n",
            "  libglib            conda-forge/linux-64::libglib-2.74.1-h606061b_1 None\n",
            "  libglu             conda-forge/linux-64::libglu-9.0.0-he1b5a44_1001 None\n",
            "  libhwloc           conda-forge/linux-64::libhwloc-2.8.0-h32351e8_1 None\n",
            "  liblapack          conda-forge/linux-64::liblapack-3.9.0-16_linux64_openblas None\n",
            "  libllvm11          conda-forge/linux-64::libllvm11-11.1.0-he0ac6c6_5 None\n",
            "  libllvm9           conda-forge/linux-64::libllvm9-9.0.1-default_hc23dcda_7 None\n",
            "  libopenblas        conda-forge/linux-64::libopenblas-0.3.21-pthreads_h78a6416_3 None\n",
            "  libpng             conda-forge/linux-64::libpng-1.6.39-h753d276_0 None\n",
            "  librsvg            conda-forge/linux-64::librsvg-2.54.4-h7abd40a_0 None\n",
            "  libsanitizer       conda-forge/linux-64::libsanitizer-10.4.0-h5246dfb_19 None\n",
            "  libsodium          conda-forge/linux-64::libsodium-1.0.18-h36c2ea0_1 None\n",
            "  libstdcxx-devel_l~ conda-forge/linux-64::libstdcxx-devel_linux-64-10.4.0-hd38fd1e_19 None\n",
            "  libtiff            conda-forge/linux-64::libtiff-4.4.0-h82bc61c_5 None\n",
            "  libtool            conda-forge/linux-64::libtool-2.4.7-h27087fc_0 None\n",
            "  libwebp            conda-forge/linux-64::libwebp-1.2.4-h522a892_0 None\n",
            "  libwebp-base       conda-forge/linux-64::libwebp-base-1.2.4-h166bdaf_0 None\n",
            "  libxcb             conda-forge/linux-64::libxcb-1.13-h7f98852_1004 None\n",
            "  llvmlite           conda-forge/linux-64::llvmlite-0.39.1-py38h38d86a4_1 None\n",
            "  markupsafe         conda-forge/linux-64::markupsafe-2.1.2-py38h1de0b5d_0 None\n",
            "  matplotlib-inline  conda-forge/noarch::matplotlib-inline-0.1.6-pyhd8ed1ab_0 None\n",
            "  metakernel         conda-forge/noarch::metakernel-0.29.4-pyhd8ed1ab_0 None\n",
            "  mistune            conda-forge/noarch::mistune-2.0.5-pyhd8ed1ab_0 None\n",
            "  nbclassic          conda-forge/noarch::nbclassic-0.5.2-pyhd8ed1ab_0 None\n",
            "  nbclient           conda-forge/noarch::nbclient-0.7.2-pyhd8ed1ab_0 None\n",
            "  nbconvert          conda-forge/noarch::nbconvert-7.2.9-pyhd8ed1ab_0 None\n",
            "  nbconvert-core     conda-forge/noarch::nbconvert-core-7.2.9-pyhd8ed1ab_0 None\n",
            "  nbconvert-pandoc   conda-forge/noarch::nbconvert-pandoc-7.2.9-pyhd8ed1ab_0 None\n",
            "  nbformat           conda-forge/noarch::nbformat-5.7.3-pyhd8ed1ab_0 None\n",
            "  nest-asyncio       conda-forge/noarch::nest-asyncio-1.5.6-pyhd8ed1ab_0 None\n",
            "  nlohmann_json      conda-forge/linux-64::nlohmann_json-3.11.2-h27087fc_0 None\n",
            "  notebook           conda-forge/noarch::notebook-6.5.2-pyha770c72_1 None\n",
            "  notebook-shim      conda-forge/noarch::notebook-shim-0.2.2-pyhd8ed1ab_0 None\n",
            "  numba              conda-forge/linux-64::numba-0.56.4-py38h9a4aae9_0 None\n",
            "  numpy              conda-forge/linux-64::numpy-1.23.5-py38h7042d01_0 None\n",
            "  packaging          conda-forge/noarch::packaging-23.0-pyhd8ed1ab_0 None\n",
            "  pandoc             conda-forge/linux-64::pandoc-2.19.2-h32600fe_1 None\n",
            "  pandocfilters      conda-forge/noarch::pandocfilters-1.5.0-pyhd8ed1ab_0 None\n",
            "  pango              conda-forge/linux-64::pango-1.50.13-hd33c08f_0 None\n",
            "  parso              conda-forge/noarch::parso-0.8.3-pyhd8ed1ab_0 None\n",
            "  pcre               conda-forge/linux-64::pcre-8.45-h9c3ff4c_0 None\n",
            "  pcre2              conda-forge/linux-64::pcre2-10.40-hc3806b6_0 None\n",
            "  pexpect            conda-forge/noarch::pexpect-4.8.0-pyh1a96a4e_2 None\n",
            "  pickleshare        conda-forge/noarch::pickleshare-0.7.5-py_1003 None\n",
            "  pixman             conda-forge/linux-64::pixman-0.40.0-h36c2ea0_0 None\n",
            "  pkgutil-resolve-n~ conda-forge/noarch::pkgutil-resolve-name-1.3.10-pyhd8ed1ab_0 None\n",
            "  platformdirs       conda-forge/noarch::platformdirs-3.0.0-pyhd8ed1ab_0 None\n",
            "  pluggy             conda-forge/noarch::pluggy-1.0.0-pyhd8ed1ab_5 None\n",
            "  portalocker        conda-forge/linux-64::portalocker-2.7.0-py38h578d9bd_0 None\n",
            "  prometheus_client  conda-forge/noarch::prometheus_client-0.16.0-pyhd8ed1ab_0 None\n",
            "  prompt-toolkit     conda-forge/noarch::prompt-toolkit-3.0.36-pyha770c72_0 None\n",
            "  psutil             conda-forge/linux-64::psutil-5.9.4-py38h0a891b7_0 None\n",
            "  pthread-stubs      conda-forge/linux-64::pthread-stubs-0.4-h36c2ea0_1001 None\n",
            "  ptyprocess         conda-forge/noarch::ptyprocess-0.7.0-pyhd3deb0d_0 None\n",
            "  pure_eval          conda-forge/noarch::pure_eval-0.2.2-pyhd8ed1ab_0 None\n",
            "  pygments           conda-forge/noarch::pygments-2.14.0-pyhd8ed1ab_0 None\n",
            "  pyrsistent         conda-forge/linux-64::pyrsistent-0.19.3-py38h1de0b5d_0 None\n",
            "  pythia8            conda-forge/linux-64::pythia8-8.307-py38hfa26641_0 None\n",
            "  python-dateutil    conda-forge/noarch::python-dateutil-2.8.2-pyhd8ed1ab_0 None\n",
            "  python-fastjsonsc~ conda-forge/noarch::python-fastjsonschema-2.16.2-pyhd8ed1ab_0 None\n",
            "  python-json-logger conda-forge/noarch::python-json-logger-2.0.6-pyhd8ed1ab_0 None\n",
            "  pyyaml             conda-forge/linux-64::pyyaml-6.0-py38h0a891b7_5 None\n",
            "  pyzmq              conda-forge/linux-64::pyzmq-25.0.0-py38he24dcef_0 None\n",
            "  rfc3339-validator  conda-forge/noarch::rfc3339-validator-0.1.4-pyhd8ed1ab_0 None\n",
            "  rfc3986-validator  conda-forge/noarch::rfc3986-validator-0.1.1-pyh9f0ad1d_0 None\n",
            "  root               conda-forge/linux-64::root-6.26.8-py38h8f669ce_1 None\n",
            "  root_base          conda-forge/linux-64::root_base-6.26.8-py38h69c3293_1 None\n",
            "  ruamel.yaml        conda-forge/linux-64::ruamel.yaml-0.17.21-py38h0a891b7_2 None\n",
            "  ruamel.yaml.clib   conda-forge/linux-64::ruamel.yaml.clib-0.2.7-py38h1de0b5d_1 None\n",
            "  scitokens-cpp      conda-forge/linux-64::scitokens-cpp-0.7.1-hf3971a6_0 None\n",
            "  send2trash         conda-forge/noarch::send2trash-1.8.0-pyhd8ed1ab_0 None\n",
            "  six                conda-forge/noarch::six-1.16.0-pyh6c4a22f_0 None\n",
            "  sniffio            conda-forge/noarch::sniffio-1.3.0-pyhd8ed1ab_0 None\n",
            "  soupsieve          conda-forge/noarch::soupsieve-2.3.2.post1-pyhd8ed1ab_0 None\n",
            "  sqlite             conda-forge/linux-64::sqlite-3.40.0-h4ff8645_0 None\n",
            "  stack_data         conda-forge/noarch::stack_data-0.6.2-pyhd8ed1ab_0 None\n",
            "  sysroot_linux-64   conda-forge/noarch::sysroot_linux-64-2.17-h4a8ded7_13 None\n",
            "  tbb                conda-forge/linux-64::tbb-2021.7.0-h924138e_1 None\n",
            "  terminado          conda-forge/noarch::terminado-0.17.1-pyh41d4057_0 None\n",
            "  tinycss2           conda-forge/noarch::tinycss2-1.2.1-pyhd8ed1ab_0 None\n",
            "  tornado            conda-forge/linux-64::tornado-6.2-py38h0a891b7_1 None\n",
            "  tqdm               conda-forge/noarch::tqdm-4.64.1-pyhd8ed1ab_0 None\n",
            "  traitlets          conda-forge/noarch::traitlets-5.9.0-pyhd8ed1ab_0 None\n",
            "  typing-extensions  conda-forge/noarch::typing-extensions-4.4.0-hd8ed1ab_0 None\n",
            "  typing_extensions  conda-forge/noarch::typing_extensions-4.4.0-pyha770c72_0 None\n",
            "  vdt                conda-forge/linux-64::vdt-0.4.3-h9c3ff4c_0 None\n",
            "  vector-classes     conda-forge/linux-64::vector-classes-1.4.3-h924138e_0 None\n",
            "  wcwidth            conda-forge/noarch::wcwidth-0.2.6-pyhd8ed1ab_0 None\n",
            "  webencodings       conda-forge/noarch::webencodings-0.5.1-py_1 None\n",
            "  websocket-client   conda-forge/noarch::websocket-client-1.5.1-pyhd8ed1ab_0 None\n",
            "  xorg-fixesproto    conda-forge/linux-64::xorg-fixesproto-5.0-h7f98852_1002 None\n",
            "  xorg-kbproto       conda-forge/linux-64::xorg-kbproto-1.0.7-h7f98852_1002 None\n",
            "  xorg-libice        conda-forge/linux-64::xorg-libice-1.0.10-h7f98852_0 None\n",
            "  xorg-libsm         conda-forge/linux-64::xorg-libsm-1.2.3-hd9c2040_1000 None\n",
            "  xorg-libx11        conda-forge/linux-64::xorg-libx11-1.6.12-h36c2ea0_0 None\n",
            "  xorg-libxau        conda-forge/linux-64::xorg-libxau-1.0.9-h7f98852_0 None\n",
            "  xorg-libxcursor    conda-forge/linux-64::xorg-libxcursor-1.2.0-h516909a_0 None\n",
            "  xorg-libxdmcp      conda-forge/linux-64::xorg-libxdmcp-1.1.3-h7f98852_0 None\n",
            "  xorg-libxext       conda-forge/linux-64::xorg-libxext-1.3.4-h516909a_0 None\n",
            "  xorg-libxfixes     conda-forge/linux-64::xorg-libxfixes-5.0.3-h516909a_1004 None\n",
            "  xorg-libxft        conda-forge/linux-64::xorg-libxft-2.3.4-hc534e41_1 None\n",
            "  xorg-libxpm        conda-forge/linux-64::xorg-libxpm-3.5.13-h516909a_0 None\n",
            "  xorg-libxrender    conda-forge/linux-64::xorg-libxrender-0.9.10-h516909a_1002 None\n",
            "  xorg-libxt         conda-forge/linux-64::xorg-libxt-1.1.5-h516909a_1003 None\n",
            "  xorg-renderproto   conda-forge/linux-64::xorg-renderproto-0.11.1-h7f98852_1002 None\n",
            "  xorg-xextproto     conda-forge/linux-64::xorg-xextproto-7.3.0-h7f98852_1002 None\n",
            "  xorg-xproto        conda-forge/linux-64::xorg-xproto-7.0.31-h7f98852_1007 None\n",
            "  xrootd             conda-forge/linux-64::xrootd-5.5.1-py38h7473b47_2 None\n",
            "  xxhash             conda-forge/linux-64::xxhash-0.8.0-h7f98852_3 None\n",
            "  zeromq             conda-forge/linux-64::zeromq-4.3.4-h9c3ff4c_1 None\n",
            "  zipp               conda-forge/noarch::zipp-3.14.0-pyhd8ed1ab_0 None\n",
            "  zlib               conda-forge/linux-64::zlib-1.2.13-h166bdaf_4 None\n",
            "\n",
            "The following packages will be UPDATED:\n",
            "\n",
            "  ca-certificates                      2022.9.24-ha878542_0 --> 2022.12.7-ha878542_0 None\n",
            "  certifi                            2022.9.24-pyhd8ed1ab_0 --> 2022.12.7-pyhd8ed1ab_0 None\n",
            "  conda                               22.9.0-py38h578d9bd_2 --> 22.11.1-py38h578d9bd_1 None\n",
            "  openssl                                  3.0.7-h0b41bf4_1 --> 3.0.8-h0b41bf4_0 None\n",
            "\n",
            "\n",
            "\n",
            "Downloading and Extracting Packages\n",
            "send2trash-1.8.0     | 17 KB     | : 100% 1.0/1 [00:00<00:00,  7.43it/s]               \n",
            "jupyter_core-5.2.0   | 89 KB     | : 100% 1.0/1 [00:00<00:00, 11.67it/s]\n",
            "vector-classes-1.4.3 | 274 KB    | : 100% 1.0/1 [00:00<00:00,  3.91it/s]\n",
            "libhwloc-2.8.0       | 3.0 MB    | : 100% 1.0/1 [00:00<00:00,  1.11it/s]\n",
            "binutils-2.39        | 29 KB     | : 100% 1.0/1 [00:00<00:00,  3.49it/s]               \n",
            "sqlite-3.40.0        | 801 KB    | : 100% 1.0/1 [00:00<00:00,  3.98it/s]\n",
            "xorg-libxcursor-1.2. | 30 KB     | : 100% 1.0/1 [00:00<00:00, 21.82it/s]\n",
            "root-6.26.8          | 29 KB     | : 100% 1.0/1 [00:00<00:00,  3.32it/s]               \n",
            "pyyaml-6.0           | 183 KB    | : 100% 1.0/1 [00:00<00:00, 12.82it/s]\n",
            "freetype-2.12.1      | 611 KB    | : 100% 1.0/1 [00:00<00:00, 17.36it/s]\n",
            "xorg-libice-1.0.10   | 58 KB     | : 100% 1.0/1 [00:00<00:00, 26.03it/s]\n",
            "stack_data-0.6.2     | 26 KB     | : 100% 1.0/1 [00:00<00:00, 28.21it/s]\n",
            "fribidi-1.0.10       | 112 KB    | : 100% 1.0/1 [00:00<00:00, 16.32it/s]\n",
            "gcc-10.4.0           | 24 KB     | : 100% 1.0/1 [00:00<00:00,  3.36it/s]               \n",
            "xorg-libxau-1.0.9    | 13 KB     | : 100% 1.0/1 [00:00<00:00, 27.28it/s]\n",
            "traitlets-5.9.0      | 96 KB     | : 100% 1.0/1 [00:00<00:00, 22.31it/s]\n",
            "binutils_linux-64-2. | 24 KB     | : 100% 1.0/1 [00:00<00:00, 15.92it/s]\n",
            "beautifulsoup4-4.11. | 102 KB    | : 100% 1.0/1 [00:00<00:00, 19.95it/s]\n",
            "pexpect-4.8.0        | 48 KB     | : 100% 1.0/1 [00:00<00:00, 18.67it/s]\n",
            "libsanitizer-10.4.0  | 6.0 MB    | : 100% 1.0/1 [00:01<00:00,  1.14s/it]\n",
            "libgcc-devel_linux-6 | 3.3 MB    | : 100% 1.0/1 [00:00<00:00,  1.71it/s]\n",
            "attrs-22.2.0         | 53 KB     | : 100% 1.0/1 [00:00<00:00, 24.61it/s]\n",
            "nbclient-0.7.2       | 60 KB     | : 100% 1.0/1 [00:00<00:00, 25.96it/s]\n",
            "gsl-2.7              | 3.2 MB    | : 100% 1.0/1 [00:00<00:00,  1.01it/s]\n",
            "tbb-2021.7.0         | 1.5 MB    | : 100% 1.0/1 [00:00<00:00, 14.47it/s]\n",
            "zipp-3.14.0          | 17 KB     | : 100% 1.0/1 [00:00<00:00, 29.15it/s]\n",
            "root_base-6.26.8     | 249.9 MB  | : 100% 1.0/1 [00:57<00:00, 57.30s/it]               \n",
            "libdeflate-1.14      | 81 KB     | : 100% 1.0/1 [00:00<00:00, 12.80it/s]\n",
            "libcblas-3.9.0       | 13 KB     | : 100% 1.0/1 [00:00<00:00, 26.84it/s]\n",
            "cxx-compiler-1.5.1   | 5 KB      | : 100% 1.0/1 [00:00<00:00, 20.77it/s]\n",
            "davix-0.8.4          | 1.1 MB    | : 100% 1.0/1 [00:00<00:00,  1.05it/s]               \n",
            "cudatoolkit-11.6.0   | 542.1 MB  | : 100% 1.0/1 [00:15<00:00, 15.95s/it]               \n",
            "wcwidth-0.2.6        | 28 KB     | : 100% 1.0/1 [00:00<00:00,  9.20it/s]\n",
            "llvmlite-0.39.1      | 2.5 MB    | : 100% 1.0/1 [00:00<00:00,  1.30it/s]\n",
            "numpy-1.23.5         | 5.6 MB    | : 100% 1.0/1 [00:00<00:00,  1.74it/s]\n",
            "libgd-2.3.3          | 266 KB    | : 100% 1.0/1 [00:00<00:00,  9.33it/s]\n",
            "zeromq-4.3.4         | 351 KB    | : 100% 1.0/1 [00:00<00:00,  7.70it/s]\n",
            "xorg-libxft-2.3.4    | 54 KB     | : 100% 1.0/1 [00:00<00:00, 25.86it/s]\n",
            "argon2-cffi-bindings | 35 KB     | : 100% 1.0/1 [00:00<00:00, 26.23it/s]\n",
            "argon2-cffi-21.3.0   | 15 KB     | : 100% 1.0/1 [00:00<00:00, 27.98it/s]\n",
            "terminado-0.17.1     | 20 KB     | : 100% 1.0/1 [00:00<00:00, 28.15it/s]\n",
            "pure_eval-0.2.2      | 14 KB     | : 100% 1.0/1 [00:00<00:00, 28.07it/s]\n",
            "font-ttf-source-code | 684 KB    | : 100% 1.0/1 [00:00<00:00,  5.48it/s]\n",
            "xorg-libxext-1.3.4   | 51 KB     | : 100% 1.0/1 [00:00<00:00, 12.33it/s]\n",
            "xorg-libxrender-0.9. | 31 KB     | : 100% 1.0/1 [00:00<00:00, 24.07it/s]\n",
            "tinycss2-1.2.1       | 23 KB     | : 100% 1.0/1 [00:00<00:00, 28.04it/s]\n",
            "libblas-3.9.0        | 13 KB     | : 100% 1.0/1 [00:00<00:00, 27.02it/s]\n",
            "xorg-libxpm-3.5.13   | 63 KB     | : 100% 1.0/1 [00:00<00:00,  3.48it/s]               \n",
            "librsvg-2.54.4       | 6.4 MB    | : 100% 1.0/1 [00:01<00:00,  1.39s/it]\n",
            "_sysroot_linux-64_cu | 14 KB     | : 100% 1.0/1 [00:00<00:00, 30.67it/s]\n",
            "executing-1.2.0      | 24 KB     | : 100% 1.0/1 [00:00<00:00, 24.39it/s]\n",
            "lerc-4.0.0           | 275 KB    | : 100% 1.0/1 [00:00<00:00, 12.10it/s]\n",
            "mistune-2.0.5        | 73 KB     | : 100% 1.0/1 [00:00<00:00, 20.79it/s]\n",
            "gcc_linux-64-10.4.0  | 25 KB     | : 100% 1.0/1 [00:00<00:00, 22.75it/s]\n",
            "six-1.16.0           | 14 KB     | : 100% 1.0/1 [00:00<00:00, 26.75it/s]\n",
            "nbconvert-core-7.2.9 | 195 KB    | : 100% 1.0/1 [00:00<00:00, 13.26it/s]\n",
            "bleach-6.0.0         | 128 KB    | : 100% 1.0/1 [00:00<00:00, 19.05it/s]\n",
            "nbformat-5.7.3       | 98 KB     | : 100% 1.0/1 [00:00<00:00, 12.97it/s]\n",
            "c-compiler-1.5.1     | 5 KB      | : 100% 1.0/1 [00:00<00:00, 29.32it/s]\n",
            "pthread-stubs-0.4    | 5 KB      | : 100% 1.0/1 [00:00<00:00, 31.73it/s]\n",
            "pango-1.50.13        | 427 KB    | : 100% 1.0/1 [00:00<00:00, 16.07it/s]\n",
            "prometheus_client-0. | 51 KB     | : 100% 1.0/1 [00:00<00:00, 24.23it/s]\n",
            "importlib_metadata-6 | 9 KB      | : 100% 1.0/1 [00:00<00:00, 27.76it/s]\n",
            "graphite2-1.3.13     | 102 KB    | : 100% 1.0/1 [00:00<00:00, 20.05it/s]\n",
            "libllvm9-9.0.1       | 25.6 MB   | : 100% 1.0/1 [00:07<00:00,  7.38s/it]               \n",
            "jinja2-3.1.2         | 99 KB     | : 100% 1.0/1 [00:00<00:00, 12.01it/s]\n",
            "xorg-xextproto-7.3.0 | 28 KB     | : 100% 1.0/1 [00:00<00:00, 18.83it/s]\n",
            "font-ttf-ubuntu-0.83 | 1.9 MB    | : 100% 1.0/1 [00:00<00:00,  1.72it/s]\n",
            "ipython_genutils-0.2 | 21 KB     | : 100% 1.0/1 [00:00<00:00, 23.15it/s]\n",
            "portalocker-2.7.0    | 31 KB     | : 100% 1.0/1 [00:00<00:00, 19.74it/s]\n",
            "importlib-metadata-6 | 24 KB     | : 100% 1.0/1 [00:00<00:00, 24.81it/s]\n",
            "comm-0.1.2           | 11 KB     | : 100% 1.0/1 [00:00<00:00, 25.07it/s]\n",
            "gts-0.7.6            | 411 KB    | : 100% 1.0/1 [00:00<00:00,  5.73it/s]\n",
            "pyrsistent-0.19.3    | 97 KB     | : 100% 1.0/1 [00:00<00:00, 14.31it/s]\n",
            "ptyprocess-0.7.0     | 16 KB     | : 100% 1.0/1 [00:00<00:00, 21.03it/s]\n",
            "jupyter_server-2.3.0 | 300 KB    | : 100% 1.0/1 [00:00<00:00,  6.05it/s]\n",
            "graphviz-6.0.2       | 2.2 MB    | : 100% 1.0/1 [00:00<00:00,  2.10it/s]\n",
            "gfortran-10.4.0      | 24 KB     | : 100% 1.0/1 [00:00<00:00,  3.28it/s]               \n",
            "jsonschema-4.17.3    | 69 KB     | : 100% 1.0/1 [00:00<00:00, 16.65it/s]\n",
            "fontconfig-2.14.2    | 266 KB    | : 100% 1.0/1 [00:00<00:00, 10.38it/s]\n",
            "certifi-2022.12.7    | 147 KB    | : 100% 1.0/1 [00:00<00:00, 22.91it/s]\n",
            "libwebp-base-1.2.4   | 404 KB    | : 100% 1.0/1 [00:00<00:00,  6.23it/s]\n",
            "defusedxml-0.7.1     | 23 KB     | : 100% 1.0/1 [00:00<00:00, 20.30it/s]\n",
            "sniffio-1.3.0        | 14 KB     | : 100% 1.0/1 [00:00<00:00, 23.88it/s]\n",
            "typing-extensions-4. | 8 KB      | : 100% 1.0/1 [00:00<00:00, 30.19it/s]\n",
            "openssl-3.0.8        | 2.5 MB    | : 100% 1.0/1 [00:00<00:00,  4.51it/s]\n",
            "libgfortran-ng-12.2. | 22 KB     | : 100% 1.0/1 [00:00<00:00, 19.79it/s]\n",
            "fftw-3.3.10          | 2.1 MB    | : 100% 1.0/1 [00:00<00:00,  7.59it/s]\n",
            "colorama-0.4.6       | 25 KB     | : 100% 1.0/1 [00:00<00:00, 20.61it/s]\n",
            "asttokens-2.2.1      | 27 KB     | : 100% 1.0/1 [00:00<00:00, 23.52it/s]\n",
            "fonts-conda-ecosyste | 4 KB      | : 100% 1.0/1 [00:00<00:00, 28.79it/s]\n",
            "kernel-headers_linux | 953 KB    | : 100% 1.0/1 [00:00<00:00,  1.32it/s]\n",
            "psutil-5.9.4         | 348 KB    | : 100% 1.0/1 [00:00<00:00,  5.10it/s]\n",
            "pygments-2.14.0      | 805 KB    | : 100% 1.0/1 [00:00<00:00,  4.27it/s]\n",
            "jupyter_events-0.6.3 | 75 KB     | : 100% 1.0/1 [00:00<00:00, 11.91it/s]\n",
            "xrootd-5.5.1         | 5.4 MB    | : 100% 1.0/1 [00:02<00:00,  2.75s/it]               \n",
            "jupyter_client-8.0.3 | 101 KB    | : 100% 1.0/1 [00:00<00:00, 16.78it/s]\n",
            "libgfortran5-12.2.0  | 1.8 MB    | : 100% 1.0/1 [00:00<00:00,  2.29it/s]\n",
            "pcre2-10.40          | 2.3 MB    | : 100% 1.0/1 [00:00<00:00,  1.32it/s]\n",
            "gtk2-2.24.33         | 7.4 MB    | : 100% 1.0/1 [00:02<00:00,  2.95s/it]               \n",
            "platformdirs-3.0.0   | 17 KB     | : 100% 1.0/1 [00:00<00:00,  7.30it/s]\n",
            "gdk-pixbuf-2.42.8    | 598 KB    | : 100% 1.0/1 [00:00<00:00,  2.40it/s]\n",
            "ruamel.yaml.clib-0.2 | 143 KB    | : 100% 1.0/1 [00:00<00:00, 22.01it/s]\n",
            "entrypoints-0.4      | 9 KB      | : 100% 1.0/1 [00:00<00:00, 28.90it/s]\n",
            "xorg-libxt-1.1.5     | 367 KB    | : 100% 1.0/1 [00:00<00:00,  4.72it/s]\n",
            "tqdm-4.64.1          | 82 KB     | : 100% 1.0/1 [00:00<00:00, 11.44it/s]\n",
            "pluggy-1.0.0         | 16 KB     | : 100% 1.0/1 [00:00<00:00, 21.10it/s]\n",
            "python-json-logger-2 | 13 KB     | : 100% 1.0/1 [00:00<00:00, 25.23it/s]\n",
            "backports.functools_ | 9 KB      | : 100% 1.0/1 [00:00<00:00, 25.73it/s]\n",
            "pandoc-2.19.2        | 30.0 MB   | : 100% 1.0/1 [00:15<00:00, 15.64s/it]               \n",
            "pandocfilters-1.5.0  | 11 KB     | : 100% 1.0/1 [00:00<00:00, 31.55it/s]\n",
            "numba-0.56.4         | 3.5 MB    | : 100% 1.0/1 [00:00<00:00,  1.90it/s]\n",
            "xorg-fixesproto-5.0  | 9 KB      | : 100% 1.0/1 [00:00<00:00, 33.08it/s]\n",
            "notebook-shim-0.2.2  | 15 KB     | : 100% 1.0/1 [00:00<00:00, 22.96it/s]\n",
            "xorg-libsm-1.2.3     | 26 KB     | : 100% 1.0/1 [00:00<00:00, 29.73it/s]\n",
            "liblapack-3.9.0      | 13 KB     | : 100% 1.0/1 [00:00<00:00, 30.46it/s]\n",
            "xxhash-0.8.0         | 86 KB     | : 100% 1.0/1 [00:00<00:00, 21.06it/s]\n",
            "ruamel.yaml-0.17.21  | 172 KB    | : 100% 1.0/1 [00:00<00:00, 10.24it/s]\n",
            "giflib-5.2.1         | 77 KB     | : 100% 1.0/1 [00:00<00:00, 20.34it/s]\n",
            "compilers-1.5.1      | 5 KB      | : 100% 1.0/1 [00:00<00:00,  3.57it/s]\n",
            "glew-2.1.0           | 647 KB    | : 100% 1.0/1 [00:00<00:00,  4.73it/s]\n",
            "gl2ps-1.4.2          | 147 KB    | : 100% 1.0/1 [00:00<00:00, 18.70it/s]\n",
            "libglu-9.0.0         | 413 KB    | : 100% 1.0/1 [00:00<00:00,  7.74it/s]\n",
            "pkgutil-resolve-name | 9 KB      | : 100% 1.0/1 [00:00<00:00, 22.49it/s]\n",
            "markupsafe-2.1.2     | 23 KB     | : 100% 1.0/1 [00:00<00:00, 13.85it/s]\n",
            "harfbuzz-6.0.0       | 1.2 MB    | : 100% 1.0/1 [00:00<00:00, 10.03it/s]\n",
            "libtiff-4.4.0        | 473 KB    | : 100% 1.0/1 [00:00<00:00, 18.66it/s]\n",
            "libcxx-14.0.6        | 1.5 MB    | : 100% 1.0/1 [00:00<00:00,  1.50it/s]\n",
            "scitokens-cpp-0.7.1  | 2.1 MB    | : 100% 1.0/1 [00:00<00:00,  2.03it/s]\n",
            "ipython-8.10.0       | 560 KB    | : 100% 1.0/1 [00:00<00:00,  6.75it/s]\n",
            "cairo-1.16.0         | 1.5 MB    | : 100% 1.0/1 [00:00<00:00,  2.03it/s]\n",
            "xorg-renderproto-0.1 | 9 KB      | : 100% 1.0/1 [00:00<00:00, 28.60it/s]\n",
            "gfortran_linux-64-10 | 24 KB     | : 100% 1.0/1 [00:00<00:00, 20.00it/s]\n",
            "vdt-0.4.3            | 30 KB     | : 100% 1.0/1 [00:00<00:00, 26.78it/s]\n",
            "libglib-2.74.1       | 3.1 MB    | : 100% 1.0/1 [00:00<00:00,  1.08it/s]\n",
            "jupyterlab_pygments- | 17 KB     | : 100% 1.0/1 [00:00<00:00, 22.70it/s]\n",
            "importlib_resources- | 30 KB     | : 100% 1.0/1 [00:00<00:00, 13.14it/s]\n",
            "decorator-5.1.1      | 12 KB     | : 100% 1.0/1 [00:00<00:00, 23.22it/s]\n",
            "jedi-0.18.2          | 786 KB    | : 100% 1.0/1 [00:00<00:00,  1.85it/s]\n",
            "prompt-toolkit-3.0.3 | 265 KB    | : 100% 1.0/1 [00:00<00:00, 10.76it/s]\n",
            "libsodium-1.0.18     | 366 KB    | : 100% 1.0/1 [00:00<00:00,  8.19it/s]\n",
            "gettext-0.21.1       | 4.1 MB    | : 100% 1.0/1 [00:01<00:00,  1.83s/it]\n",
            "libopenblas-0.3.21   | 10.1 MB   | : 100% 1.0/1 [00:02<00:00,  2.91s/it]\n",
            "xorg-kbproto-1.0.7   | 27 KB     | : 100% 1.0/1 [00:00<00:00, 21.60it/s]\n",
            "nbconvert-pandoc-7.2 | 6 KB      | : 100% 1.0/1 [00:00<00:00, 22.17it/s]\n",
            "jpeg-9e              | 235 KB    | : 100% 1.0/1 [00:00<00:00, 17.98it/s]\n",
            "typing_extensions-4. | 29 KB     | : 100% 1.0/1 [00:00<00:00, 24.08it/s]\n",
            "zlib-1.2.13          | 92 KB     | : 100% 1.0/1 [00:00<00:00, 13.98it/s]\n",
            "nlohmann_json-3.11.2 | 112 KB    | : 100% 1.0/1 [00:00<00:00,  8.16it/s]\n",
            "binutils_impl_linux- | 4.7 MB    | : 100% 1.0/1 [00:00<00:00,  2.17it/s]\n",
            "xorg-xproto-7.0.31   | 73 KB     | : 100% 1.0/1 [00:00<00:00, 14.73it/s]\n",
            "libllvm11-11.1.0     | 28.8 MB   | : 100% 1.0/1 [00:10<00:00, 10.97s/it]               \n",
            "gcc_impl_linux-64-10 | 46.7 MB   | : 100% 1.0/1 [00:11<00:00, 11.84s/it]               \n",
            "flit-core-3.8.0      | 45 KB     | : 100% 1.0/1 [00:00<00:00, 10.12it/s]\n",
            "gxx_linux-64-10.4.0  | 25 KB     | : 100% 1.0/1 [00:00<00:00, 17.23it/s]\n",
            "cfitsio-4.1.0        | 1.3 MB    | : 100% 1.0/1 [00:00<00:00,  2.08it/s]\n",
            "pcre-8.45            | 253 KB    | : 100% 1.0/1 [00:00<00:00,  6.92it/s]\n",
            "nbconvert-7.2.9      | 8 KB      | : 100% 1.0/1 [00:00<00:00, 27.03it/s]\n",
            "pickleshare-0.7.5    | 9 KB      | : 100% 1.0/1 [00:00<00:00, 24.54it/s]\n",
            "gsoap-2.8.123        | 1.8 MB    | : 100% 1.0/1 [00:00<00:00,  1.17it/s]\n",
            "backports-1.0        | 6 KB      | : 100% 1.0/1 [00:00<00:00, 28.90it/s]\n",
            "pythia8-8.307        | 31.3 MB   | : 100% 1.0/1 [00:09<00:00,  9.91s/it]              \n",
            "fortran-compiler-1.5 | 5 KB      | : 100% 1.0/1 [00:00<00:00,  3.58it/s]\n",
            "atk-1.0-2.38.0       | 539 KB    | : 100% 1.0/1 [00:00<00:00,  3.52it/s]\n",
            "nbclassic-0.5.2      | 5.4 MB    | : 100% 1.0/1 [00:00<00:00,  1.32it/s]\n",
            "sysroot_linux-64-2.1 | 34.1 MB   | : 100% 1.0/1 [00:09<00:00,  9.73s/it]               \n",
            "xorg-libxdmcp-1.1.3  | 19 KB     | : 100% 1.0/1 [00:00<00:00, 25.92it/s]\n",
            "ca-certificates-2022 | 143 KB    | : 100% 1.0/1 [00:00<00:00, 24.11it/s]\n",
            "parso-0.8.3          | 69 KB     | : 100% 1.0/1 [00:00<00:00, 13.50it/s]\n",
            "font-ttf-dejavu-sans | 388 KB    | : 100% 1.0/1 [00:00<00:00,  8.33it/s]\n",
            "anyio-3.6.2          | 83 KB     | : 100% 1.0/1 [00:00<00:00,  9.26it/s]\n",
            "python-fastjsonschem | 242 KB    | : 100% 1.0/1 [00:00<00:00,  2.32it/s]\n",
            "packaging-23.0       | 40 KB     | : 100% 1.0/1 [00:00<00:00, 20.63it/s]\n",
            "ipyparallel-8.4.1    | 199 KB    | : 100% 1.0/1 [00:00<00:00,  2.14it/s]\n",
            "libxcb-1.13          | 391 KB    | : 100% 1.0/1 [00:00<00:00,  3.16it/s]\n",
            "xorg-libxfixes-5.0.3 | 17 KB     | : 100% 1.0/1 [00:00<00:00, 24.56it/s]\n",
            "libpng-1.6.39        | 276 KB    | : 100% 1.0/1 [00:00<00:00, 13.55it/s]\n",
            "rfc3339-validator-0. | 8 KB      | : 100% 1.0/1 [00:00<00:00,  8.92it/s]\n",
            "matplotlib-inline-0. | 12 KB     | : 100% 1.0/1 [00:00<00:00, 26.05it/s]\n",
            "notebook-6.5.2       | 267 KB    | : 100% 1.0/1 [00:00<00:00,  3.54it/s]\n",
            "jupyter_server_termi | 19 KB     | : 100% 1.0/1 [00:00<00:00, 20.00it/s]\n",
            "gxx_impl_linux-64-10 | 11.5 MB   | : 100% 1.0/1 [00:03<00:00,  3.86s/it]\n",
            "nest-asyncio-1.5.6   | 10 KB     | : 100% 1.0/1 [00:00<00:00, 27.05it/s]\n",
            "libwebp-1.2.4        | 87 KB     | : 100% 1.0/1 [00:00<00:00, 16.79it/s]\n",
            "fonts-conda-forge-1  | 4 KB      | : 100% 1.0/1 [00:00<00:00, 29.08it/s]\n",
            "xorg-libx11-1.6.12   | 919 KB    | : 100% 1.0/1 [00:00<00:00,  2.49it/s]\n",
            "gfortran_impl_linux- | 14.8 MB   | : 100% 1.0/1 [00:03<00:00,  3.50s/it]               \n",
            "rfc3986-validator-0. | 8 KB      | : 100% 1.0/1 [00:00<00:00, 26.57it/s]\n",
            "ipykernel-6.21.2     | 108 KB    | : 100% 1.0/1 [00:00<00:00, 13.67it/s]\n",
            "libtool-2.4.7        | 402 KB    | : 100% 1.0/1 [00:00<00:00, 14.70it/s]\n",
            "libstdcxx-devel_linu | 9.6 MB    | : 100% 1.0/1 [00:02<00:00,  2.57s/it]               \n",
            "debugpy-1.6.6        | 1.8 MB    | : 100% 1.0/1 [00:00<00:00,  2.96it/s]\n",
            "python-dateutil-2.8. | 240 KB    | : 100% 1.0/1 [00:00<00:00, 13.09it/s]\n",
            "websocket-client-1.5 | 43 KB     | : 100% 1.0/1 [00:00<00:00, 22.56it/s]\n",
            "ftgl-2.4.0           | 112 KB    | : 100% 1.0/1 [00:00<00:00, 17.05it/s]\n",
            "afterimage-1.21      | 718 KB    | : 100% 1.0/1 [00:00<00:00,  5.07it/s]\n",
            "metakernel-0.29.4    | 182 KB    | : 100% 1.0/1 [00:00<00:00,  1.10it/s]\n",
            "libcxxabi-14.0.6     | 185 KB    | : 100% 1.0/1 [00:00<00:00, 10.89it/s]\n",
            "tornado-6.2          | 654 KB    | : 100% 1.0/1 [00:00<00:00,  3.24it/s]\n",
            "pixman-0.40.0        | 627 KB    | : 100% 1.0/1 [00:00<00:00,  6.14it/s]\n",
            "backcall-0.2.0       | 13 KB     | : 100% 1.0/1 [00:00<00:00, 27.56it/s]\n",
            "conda-22.11.1        | 905 KB    | : 100% 1.0/1 [00:00<00:00,  4.36it/s]\n",
            "soupsieve-2.3.2.post | 34 KB     | : 100% 1.0/1 [00:00<00:00, 24.22it/s]\n",
            "gxx-10.4.0           | 24 KB     | : 100% 1.0/1 [00:00<00:00, 23.61it/s]\n",
            "pyzmq-25.0.0         | 431 KB    | : 100% 1.0/1 [00:00<00:00,  7.43it/s]\n",
            "font-ttf-inconsolata | 94 KB     | : 100% 1.0/1 [00:00<00:00, 22.79it/s]\n",
            "expat-2.5.0          | 189 KB    | : 100% 1.0/1 [00:00<00:00, 13.03it/s]\n",
            "webencodings-0.5.1   | 12 KB     | : 100% 1.0/1 [00:00<00:00, 30.84it/s]\n",
            "Preparing transaction: | \b\b/ \b\b- \b\b\\ \b\b| \b\b/ \b\b- \b\b\\ \b\b| \b\b/ \b\b- \b\b\\ \b\b| \b\b/ \b\b- \b\b\\ \b\b| \b\b/ \b\b- \b\b\\ \b\b| \b\bdone\n",
            "Verifying transaction: - \b\b\\ \b\b| \b\b/ \b\b- \b\b\\ \b\b| \b\b/ \b\b- \b\b\\ \b\b| \b\b/ \b\b- \b\b\\ \b\b| \b\b/ \b\b- \b\b\\ \b\b| \b\b/ \b\b- \b\b\\ \b\b| \b\b/ \b\b- \b\b\\ \b\b| \b\b/ \b\b- \b\b\\ \b\b| \b\b/ \b\b- \b\b\\ \b\b| \b\b/ \b\b- \b\b\\ \b\b| \b\b/ \b\b- \b\b\\ \b\b| \b\b/ \b\b- \b\b\\ \b\b| \b\b/ \b\b- \b\b\\ \b\b| \b\b/ \b\b- \b\b\\ \b\b| \b\b/ \b\b- \b\b\\ \b\b| \b\b/ \b\b- \b\b\\ \b\b| \b\b/ \b\b- \b\b\\ \b\b| \b\b/ \b\b- \b\b\\ \b\b| \b\b/ \b\b- \b\b\\ \b\b| \b\b/ \b\b- \b\b\\ \b\b| \b\b/ \b\b- \b\b\\ \b\b| \b\b/ \b\b- \b\b\\ \b\b| \b\b/ \b\bdone\n",
            "Executing transaction: \\ \b\b| \b\b/ \b\b- \b\b\\ \b\b| \b\b/ \b\b- \b\b\\ \b\b| \b\b/ \b\b- \b\b\\ \b\b| \b\b/ \b\b- \b\b\\ \b\b| \b\b/ \b\b- \b\b\\ \b\b| \b\b/ \b\b- \b\b\\ \b\b| \b\b/ \b\b- \b\b\\ \b\b| \b\b/ \b\b- \b\b\\ \b\b| \b\b/ \b\b- \b\b\\ \b\b| \b\b/ \b\b- \b\b\\ \b\b| \b\b/ \b\b- \b\b\\ \b\b| \b\b/ \b\b- \b\b\\ \b\b| \b\b/ \b\b- By downloading and using the CUDA Toolkit conda packages, you accept the terms and conditions of the CUDA End User License Agreement (EULA): https://docs.nvidia.com/cuda/eula/index.html\n",
            "\n",
            "\b\b\\ \b\b| \b\b/ \b\b- \b\b\\ \b\b| \b\b/ \b\b- \b\b\\ \b\b| \b\b/ \b\b- \b\b\\ \b\b| \b\b/ \b\b- \b\b\\ \b\b| \b\b/ \b\b- \b\b\\ \b\b| \b\b/ \b\b- \b\b\\ \n",
            "\b\b| \b\b/ \b\b- \b\b\\ \b\b| \b\b/ \b\b- \b\b\\ \b\b| \b\b/ \b\b- \b\b\\ \b\b| \b\b/ \b\b- \b\b\\ \b\b| \b\b/ \b\b- \b\b\\ \b\b| \b\b/ \b\b- \b\b\\ \b\b| \b\b/ \b\b- \b\b\\ \b\b| \b\b/ \n",
            "\b\b- \b\b\\ \b\b| \b\b/ \b\b- \b\b\\ \b\b| \b\b/ \b\b- \b\b\\ \b\b| \b\b/ \b\b- \b\b\\ \b\b| \b\b/ \b\b- \b\b\\ \b\b| \b\b/ \b\b- \b\b\\ \b\b| \b\b/ \b\b- \b\b\\ \b\b| \b\b/ \b\b- \b\b\\ \b\b| \b\b/ \b\b- \b\b\\ \b\b| \b\b/ \b\b- \b\b\\ \b\b| \b\b/ \b\b- \b\b\\ \b\b| \b\b/ \b\b- \b\b\\ \b\b| \b\b/ \b\b- \b\b\\ \b\b| \b\b/ \b\b- \b\b\\ \b\b| \b\b/ \b\b- \b\b\\ \b\b| \b\b/ \b\b- \b\b\\ \b\b| \b\b/ \b\b- \b\b\\ \b\b| \b\b/ \b\b- \b\b\\ \b\b| \b\b/ \b\b- \b\b\\ \b\b| \b\b/ \b\b- \b\b\\ \b\b| \b\b/ \b\b- \b\b\\ \b\b| \b\b/ \b\b- \b\b\\ \b\b| \b\b/ \b\b- \b\b\\ \b\b| \b\b/ \b\b- \b\b\\ \b\b| \b\b/ \b\b- \b\b\\ \b\b| \b\b/ \b\b- \b\b\\ \b\b| \b\b/ \b\b- \b\b\\ \b\b| \b\b/ \b\b- \b\b\\ \b\b| \b\b/ \b\b- \b\b\\ \b\b| \b\b/ \b\b- \b\b\\ \b\b| \b\b/ \b\b- \b\b\\ \b\b| \b\b/ \b\b- \b\b\\ \b\b| \b\b/ \b\b- \b\b\\ \b\b| \b\b/ \b\b- \b\b\\ \b\b| \b\b/ \b\b- \b\b\\ \b\bdone\n",
            "Retrieving notices: ...working... done\n"
          ]
        }
      ]
    },
    {
      "cell_type": "code",
      "source": [
        "!pip install -q uproot\n",
        "!pip install -q tensorflow==2.6.2 #specific versions for compatability with zfit\n",
        "!pip install -q zfit"
      ],
      "metadata": {
        "id": "ulEG4ZYcDMkl",
        "outputId": "450b4b39-acf2-4ac1-de94-4e2deace5226",
        "colab": {
          "base_uri": "https://localhost:8080/"
        }
      },
      "id": "ulEG4ZYcDMkl",
      "execution_count": 3,
      "outputs": [
        {
          "output_type": "stream",
          "name": "stdout",
          "text": [
            "\u001b[2K     \u001b[90m━━━━━━━━━━━━━━━━━━━━━━━━━━━━━━━━━━━━━━━\u001b[0m \u001b[32m328.4/328.4 kB\u001b[0m \u001b[31m5.4 MB/s\u001b[0m eta \u001b[36m0:00:00\u001b[0m\n",
            "\u001b[2K     \u001b[90m━━━━━━━━━━━━━━━━━━━━━━━━━━━━━━━━━━━━━━\u001b[0m \u001b[32m583.2/583.2 kB\u001b[0m \u001b[31m10.2 MB/s\u001b[0m eta \u001b[36m0:00:00\u001b[0m\n",
            "\u001b[2K     \u001b[90m━━━━━━━━━━━━━━━━━━━━━━━━━━━━━━━━━━━━━━━━\u001b[0m \u001b[32m1.1/1.1 MB\u001b[0m \u001b[31m12.2 MB/s\u001b[0m eta \u001b[36m0:00:00\u001b[0m\n",
            "\u001b[?25h\u001b[33mWARNING: Running pip as the 'root' user can result in broken permissions and conflicting behaviour with the system package manager. It is recommended to use a virtual environment instead: https://pip.pypa.io/warnings/venv\u001b[0m\u001b[33m\n",
            "\u001b[2K     \u001b[90m━━━━━━━━━━━━━━━━━━━━━━━━━━━━━━━━━━━━━━━\u001b[0m \u001b[32m458.4/458.4 MB\u001b[0m \u001b[31m3.2 MB/s\u001b[0m eta \u001b[36m0:00:00\u001b[0m\n",
            "\u001b[?25h  Preparing metadata (setup.py) ... \u001b[?25l\u001b[?25hdone\n",
            "\u001b[2K     \u001b[90m━━━━━━━━━━━━━━━━━━━━━━━━━━━━━━━━━━━━━━━━\u001b[0m \u001b[32m4.8/4.8 MB\u001b[0m \u001b[31m54.4 MB/s\u001b[0m eta \u001b[36m0:00:00\u001b[0m\n",
            "\u001b[2K     \u001b[90m━━━━━━━━━━━━━━━━━━━━━━━━━━━━━━━━━━━━━━━━\u001b[0m \u001b[32m14.9/14.9 MB\u001b[0m \u001b[31m53.9 MB/s\u001b[0m eta \u001b[36m0:00:00\u001b[0m\n",
            "\u001b[2K     \u001b[90m━━━━━━━━━━━━━━━━━━━━━━━━━━━━━━━━━━━━━━━━\u001b[0m \u001b[32m1.3/1.3 MB\u001b[0m \u001b[31m52.0 MB/s\u001b[0m eta \u001b[36m0:00:00\u001b[0m\n",
            "\u001b[2K     \u001b[90m━━━━━━━━━━━━━━━━━━━━━━━━━━━━━━━━━━━━━━━━\u001b[0m \u001b[32m5.6/5.6 MB\u001b[0m \u001b[31m45.8 MB/s\u001b[0m eta \u001b[36m0:00:00\u001b[0m\n",
            "\u001b[?25h  Preparing metadata (setup.py) ... \u001b[?25l\u001b[?25hdone\n",
            "\u001b[2K     \u001b[90m━━━━━━━━━━━━━━━━━━━━━━━━━━━━━━━━━━━━━━━━\u001b[0m \u001b[32m57.5/57.5 kB\u001b[0m \u001b[31m4.2 MB/s\u001b[0m eta \u001b[36m0:00:00\u001b[0m\n",
            "\u001b[2K     \u001b[90m━━━━━━━━━━━━━━━━━━━━━━━━━━━━━━━━━━━━━━━━\u001b[0m \u001b[32m65.5/65.5 kB\u001b[0m \u001b[31m7.1 MB/s\u001b[0m eta \u001b[36m0:00:00\u001b[0m\n",
            "\u001b[2K     \u001b[90m━━━━━━━━━━━━━━━━━━━━━━━━━━━━━━━━━━━━━━━━\u001b[0m \u001b[32m42.6/42.6 kB\u001b[0m \u001b[31m4.0 MB/s\u001b[0m eta \u001b[36m0:00:00\u001b[0m\n",
            "\u001b[2K     \u001b[90m━━━━━━━━━━━━━━━━━━━━━━━━━━━━━━━━━━━━━━\u001b[0m \u001b[32m302.4/302.4 kB\u001b[0m \u001b[31m25.1 MB/s\u001b[0m eta \u001b[36m0:00:00\u001b[0m\n",
            "\u001b[2K     \u001b[90m━━━━━━━━━━━━━━━━━━━━━━━━━━━━━━━━━━━━━━━━\u001b[0m \u001b[32m4.4/4.4 MB\u001b[0m \u001b[31m83.2 MB/s\u001b[0m eta \u001b[36m0:00:00\u001b[0m\n",
            "\u001b[?25h  Preparing metadata (setup.py) ... \u001b[?25l\u001b[?25hdone\n",
            "\u001b[2K     \u001b[90m━━━━━━━━━━━━━━━━━━━━━━━━━━━━━━━━━━━━━━\u001b[0m \u001b[32m462.9/462.9 kB\u001b[0m \u001b[31m39.8 MB/s\u001b[0m eta \u001b[36m0:00:00\u001b[0m\n",
            "\u001b[2K     \u001b[90m━━━━━━━━━━━━━━━━━━━━━━━━━━━━━━━━━━━━━━\u001b[0m \u001b[32m132.0/132.0 kB\u001b[0m \u001b[31m13.3 MB/s\u001b[0m eta \u001b[36m0:00:00\u001b[0m\n",
            "\u001b[2K     \u001b[90m━━━━━━━━━━━━━━━━━━━━━━━━━━━━━━━━━━━━━━━━\u001b[0m \u001b[32m93.3/93.3 kB\u001b[0m \u001b[31m10.7 MB/s\u001b[0m eta \u001b[36m0:00:00\u001b[0m\n",
            "\u001b[2K     \u001b[90m━━━━━━━━━━━━━━━━━━━━━━━━━━━━━━━━━━━━━━━━\u001b[0m \u001b[32m4.9/4.9 MB\u001b[0m \u001b[31m85.7 MB/s\u001b[0m eta \u001b[36m0:00:00\u001b[0m\n",
            "\u001b[2K     \u001b[90m━━━━━━━━━━━━━━━━━━━━━━━━━━━━━━━━━━━━━━\u001b[0m \u001b[32m152.9/152.9 kB\u001b[0m \u001b[31m18.0 MB/s\u001b[0m eta \u001b[36m0:00:00\u001b[0m\n",
            "\u001b[2K     \u001b[90m━━━━━━━━━━━━━━━━━━━━━━━━━━━━━━━━━━━━━━\u001b[0m \u001b[32m781.3/781.3 kB\u001b[0m \u001b[31m50.3 MB/s\u001b[0m eta \u001b[36m0:00:00\u001b[0m\n",
            "\u001b[2K     \u001b[90m━━━━━━━━━━━━━━━━━━━━━━━━━━━━━━━━━━━━━━\u001b[0m \u001b[32m233.6/233.6 kB\u001b[0m \u001b[31m24.4 MB/s\u001b[0m eta \u001b[36m0:00:00\u001b[0m\n",
            "\u001b[2K     \u001b[90m━━━━━━━━━━━━━━━━━━━━━━━━━━━━━━━━━━━━━━\u001b[0m \u001b[32m155.3/155.3 kB\u001b[0m \u001b[31m16.5 MB/s\u001b[0m eta \u001b[36m0:00:00\u001b[0m\n",
            "\u001b[2K     \u001b[90m━━━━━━━━━━━━━━━━━━━━━━━━━━━━━━━━━━━━━━━━\u001b[0m \u001b[32m77.1/77.1 kB\u001b[0m \u001b[31m8.2 MB/s\u001b[0m eta \u001b[36m0:00:00\u001b[0m\n",
            "\u001b[2K     \u001b[90m━━━━━━━━━━━━━━━━━━━━━━━━━━━━━━━━━━━━━━\u001b[0m \u001b[32m151.7/151.7 kB\u001b[0m \u001b[31m13.9 MB/s\u001b[0m eta \u001b[36m0:00:00\u001b[0m\n",
            "\u001b[?25h  Building wheel for clang (setup.py) ... \u001b[?25l\u001b[?25hdone\n",
            "  Building wheel for termcolor (setup.py) ... \u001b[?25l\u001b[?25hdone\n",
            "  Building wheel for wrapt (setup.py) ... \u001b[?25l\u001b[?25hdone\n",
            "\u001b[31mERROR: pip's dependency resolver does not currently take into account all the packages that are installed. This behaviour is the source of the following dependency conflicts.\n",
            "awkward 2.0.8 requires typing-extensions>=4.1.0; python_version < \"3.11\", but you have typing-extensions 3.7.4.3 which is incompatible.\u001b[0m\u001b[31m\n",
            "\u001b[0m\u001b[33mWARNING: Running pip as the 'root' user can result in broken permissions and conflicting behaviour with the system package manager. It is recommended to use a virtual environment instead: https://pip.pypa.io/warnings/venv\u001b[0m\u001b[33m\n",
            "\u001b[2K     \u001b[90m━━━━━━━━━━━━━━━━━━━━━━━━━━━━━━━━━━━━━━━\u001b[0m \u001b[32m424.2/424.2 kB\u001b[0m \u001b[31m4.8 MB/s\u001b[0m eta \u001b[36m0:00:00\u001b[0m\n",
            "\u001b[2K     \u001b[90m━━━━━━━━━━━━━━━━━━━━━━━━━━━━━━━━━━━━━━━━\u001b[0m \u001b[32m6.7/6.7 MB\u001b[0m \u001b[31m15.4 MB/s\u001b[0m eta \u001b[36m0:00:00\u001b[0m\n",
            "\u001b[2K     \u001b[90m━━━━━━━━━━━━━━━━━━━━━━━━━━━━━━━━━━━━━━\u001b[0m \u001b[32m100.2/100.2 kB\u001b[0m \u001b[31m10.6 MB/s\u001b[0m eta \u001b[36m0:00:00\u001b[0m\n",
            "\u001b[2K     \u001b[90m━━━━━━━━━━━━━━━━━━━━━━━━━━━━━━━━━━━━━━━\u001b[0m \u001b[32m588.3/588.3 MB\u001b[0m \u001b[31m2.3 MB/s\u001b[0m eta \u001b[36m0:00:00\u001b[0m\n",
            "\u001b[2K     \u001b[90m━━━━━━━━━━━━━━━━━━━━━━━━━━━━━━━━━━━━━━\u001b[0m \u001b[32m213.0/213.0 kB\u001b[0m \u001b[31m15.6 MB/s\u001b[0m eta \u001b[36m0:00:00\u001b[0m\n",
            "\u001b[2K     \u001b[90m━━━━━━━━━━━━━━━━━━━━━━━━━━━━━━━━━━━━━━━━\u001b[0m \u001b[32m1.4/1.4 MB\u001b[0m \u001b[31m3.2 MB/s\u001b[0m eta \u001b[36m0:00:00\u001b[0m\n",
            "\u001b[2K     \u001b[90m━━━━━━━━━━━━━━━━━━━━━━━━━━━━━━━━━━━━━━━━\u001b[0m \u001b[32m34.5/34.5 MB\u001b[0m \u001b[31m28.6 MB/s\u001b[0m eta \u001b[36m0:00:00\u001b[0m\n",
            "\u001b[2K     \u001b[90m━━━━━━━━━━━━━━━━━━━━━━━━━━━━━━━━━━━━━━━━\u001b[0m \u001b[32m1.1/1.1 MB\u001b[0m \u001b[31m38.9 MB/s\u001b[0m eta \u001b[36m0:00:00\u001b[0m\n",
            "\u001b[2K     \u001b[90m━━━━━━━━━━━━━━━━━━━━━━━━━━━━━━━━━━━━━━━━\u001b[0m \u001b[32m3.2/3.2 MB\u001b[0m \u001b[31m53.3 MB/s\u001b[0m eta \u001b[36m0:00:00\u001b[0m\n",
            "\u001b[2K     \u001b[90m━━━━━━━━━━━━━━━━━━━━━━━━━━━━━━━━━━━━━━\u001b[0m \u001b[32m302.7/302.7 kB\u001b[0m \u001b[31m23.2 MB/s\u001b[0m eta \u001b[36m0:00:00\u001b[0m\n",
            "\u001b[2K     \u001b[90m━━━━━━━━━━━━━━━━━━━━━━━━━━━━━━━━━━━━━━━━\u001b[0m \u001b[32m1.4/1.4 MB\u001b[0m \u001b[31m7.5 MB/s\u001b[0m eta \u001b[36m0:00:00\u001b[0m\n",
            "\u001b[2K     \u001b[90m━━━━━━━━━━━━━━━━━━━━━━━━━━━━━━━━━━━━━━\u001b[0m \u001b[32m351.0/351.0 kB\u001b[0m \u001b[31m29.9 MB/s\u001b[0m eta \u001b[36m0:00:00\u001b[0m\n",
            "\u001b[?25h  Preparing metadata (setup.py) ... \u001b[?25l\u001b[?25hdone\n",
            "\u001b[2K     \u001b[90m━━━━━━━━━━━━━━━━━━━━━━━━━━━━━━━━━━━━━━━━\u001b[0m \u001b[32m12.2/12.2 MB\u001b[0m \u001b[31m57.6 MB/s\u001b[0m eta \u001b[36m0:00:00\u001b[0m\n",
            "\u001b[2K     \u001b[90m━━━━━━━━━━━━━━━━━━━━━━━━━━━━━━━━━━━━━━\u001b[0m \u001b[32m126.5/126.5 kB\u001b[0m \u001b[31m13.6 MB/s\u001b[0m eta \u001b[36m0:00:00\u001b[0m\n",
            "\u001b[2K     \u001b[90m━━━━━━━━━━━━━━━━━━━━━━━━━━━━━━━━━━━━━━━━\u001b[0m \u001b[32m6.0/6.0 MB\u001b[0m \u001b[31m83.7 MB/s\u001b[0m eta \u001b[36m0:00:00\u001b[0m\n",
            "\u001b[2K     \u001b[90m━━━━━━━━━━━━━━━━━━━━━━━━━━━━━━━━━━━━━━━━\u001b[0m \u001b[32m1.7/1.7 MB\u001b[0m \u001b[31m69.5 MB/s\u001b[0m eta \u001b[36m0:00:00\u001b[0m\n",
            "\u001b[2K     \u001b[90m━━━━━━━━━━━━━━━━━━━━━━━━━━━━━━━━━━━━━━━━\u001b[0m \u001b[32m17.3/17.3 MB\u001b[0m \u001b[31m46.8 MB/s\u001b[0m eta \u001b[36m0:00:00\u001b[0m\n",
            "\u001b[2K     \u001b[90m━━━━━━━━━━━━━━━━━━━━━━━━━━━━━━━━━━━━━━\u001b[0m \u001b[32m439.2/439.2 kB\u001b[0m \u001b[31m37.3 MB/s\u001b[0m eta \u001b[36m0:00:00\u001b[0m\n",
            "\u001b[2K     \u001b[90m━━━━━━━━━━━━━━━━━━━━━━━━━━━━━━━━━━━━━━━━\u001b[0m \u001b[32m2.4/2.4 MB\u001b[0m \u001b[31m76.3 MB/s\u001b[0m eta \u001b[36m0:00:00\u001b[0m\n",
            "\u001b[2K     \u001b[90m━━━━━━━━━━━━━━━━━━━━━━━━━━━━━━━━━━━━━━━━\u001b[0m \u001b[32m1.1/1.1 MB\u001b[0m \u001b[31m60.1 MB/s\u001b[0m eta \u001b[36m0:00:00\u001b[0m\n",
            "\u001b[2K     \u001b[90m━━━━━━━━━━━━━━━━━━━━━━━━━━━━━━━━━━━━━━━━\u001b[0m \u001b[32m21.5/21.5 MB\u001b[0m \u001b[31m67.2 MB/s\u001b[0m eta \u001b[36m0:00:00\u001b[0m\n",
            "\u001b[2K     \u001b[90m━━━━━━━━━━━━━━━━━━━━━━━━━━━━━━━━━━━━━━\u001b[0m \u001b[32m152.9/152.9 kB\u001b[0m \u001b[31m17.4 MB/s\u001b[0m eta \u001b[36m0:00:00\u001b[0m\n",
            "\u001b[2K     \u001b[90m━━━━━━━━━━━━━━━━━━━━━━━━━━━━━━━━━━━━━━\u001b[0m \u001b[32m499.4/499.4 kB\u001b[0m \u001b[31m36.6 MB/s\u001b[0m eta \u001b[36m0:00:00\u001b[0m\n",
            "\u001b[2K     \u001b[90m━━━━━━━━━━━━━━━━━━━━━━━━━━━━━━━━━━━━━━━━\u001b[0m \u001b[32m96.6/96.6 kB\u001b[0m \u001b[31m1.1 MB/s\u001b[0m eta \u001b[36m0:00:00\u001b[0m\n",
            "\u001b[?25h  Building wheel for colored (setup.py) ... \u001b[?25l\u001b[?25hdone\n",
            "\u001b[31mERROR: pip's dependency resolver does not currently take into account all the packages that are installed. This behaviour is the source of the following dependency conflicts.\n",
            "numba 0.56.4 requires numpy<1.24,>=1.18, but you have numpy 1.24.2 which is incompatible.\u001b[0m\u001b[31m\n",
            "\u001b[0m\u001b[33mWARNING: Running pip as the 'root' user can result in broken permissions and conflicting behaviour with the system package manager. It is recommended to use a virtual environment instead: https://pip.pypa.io/warnings/venv\u001b[0m\u001b[33m\n",
            "\u001b[0m"
          ]
        }
      ]
    },
    {
      "cell_type": "markdown",
      "id": "850121d9",
      "metadata": {
        "id": "850121d9"
      },
      "source": [
        "# GTK performance study"
      ]
    },
    {
      "cell_type": "code",
      "execution_count": 80,
      "id": "49b44709",
      "metadata": {
        "id": "49b44709"
      },
      "outputs": [],
      "source": [
        "import numpy as np\n",
        "import uproot\n",
        "import pandas as pd\n",
        "import matplotlib.pyplot as pl\n",
        "import matplotlib.colors as mcolors\n",
        "import copy\n",
        "import ROOT"
      ]
    },
    {
      "cell_type": "code",
      "execution_count": 5,
      "id": "d63520e4",
      "metadata": {
        "id": "d63520e4"
      },
      "outputs": [],
      "source": [
        "# This is just how I like quickly setup plots, change to whatever you like:\n",
        "colormap = copy.copy(pl.cm.get_cmap(\"viridis\")) # rainbow\n",
        "colormap.set_under('w',1)\n",
        "\n",
        "textsize=18\n",
        "plotw=10\n",
        "ploth=8\n",
        "\n",
        "pl.rc('xtick',labelsize=textsize)\n",
        "pl.rc('ytick',labelsize=textsize)\n",
        "pl.rc('axes', linewidth = 2)"
      ]
    },
    {
      "cell_type": "markdown",
      "id": "4a9941d6",
      "metadata": {
        "id": "4a9941d6"
      },
      "source": [
        "### NA62 Run 1, Run 9001"
      ]
    },
    {
      "cell_type": "code",
      "execution_count": 6,
      "id": "8e68efbd",
      "metadata": {
        "id": "8e68efbd",
        "outputId": "d37eae72-77a7-4690-e186-0e120fa928c6",
        "colab": {
          "base_uri": "https://localhost:8080/"
        }
      },
      "outputs": [
        {
          "output_type": "stream",
          "name": "stderr",
          "text": [
            "Warning in <TClass::Init>: no dictionary for class Stream is available\n",
            "Warning in <TClass::Init>: no dictionary for class RecoInfo is available\n",
            "Warning in <TClass::Init>: no dictionary for class AnalysisInfo is available\n",
            "Warning in <TClass::Init>: no dictionary for class CheckPointInfo is available\n",
            "Warning in <TClass::Init>: no dictionary for class NA62Analysis::Core::AnalyzerIdentifier is available\n",
            "Warning in <TClass::Init>: no dictionary for class MCInfo is available\n",
            "Warning in <TClass::Init>: no dictionary for class BeamLineInfo is available\n"
          ]
        }
      ],
      "source": [
        "# Set file path as in your setup:\n",
        "FilePath=\"/content/drive/MyDrive/TP4b/Data/Run009001_gtk_tp4b_1802.root\"\n",
        "myFile = ROOT.TFile.Open(FilePath)\n",
        "myTree = myFile.GTKStudyTtree\n",
        "# Don't mind warnings, they are related to the NA62FW ROOT dictionary, which we don't have setup here"
      ]
    },
    {
      "cell_type": "code",
      "execution_count": 7,
      "id": "8713348e",
      "metadata": {
        "id": "8713348e",
        "outputId": "0c98950b-b371-4b23-cb8d-f2571388baae",
        "colab": {
          "base_uri": "https://localhost:8080/"
        }
      },
      "outputs": [
        {
          "output_type": "stream",
          "name": "stdout",
          "text": [
            "======> EVENT:0\n",
            " RunID           = 9001\n",
            " BurstID         = 1\n",
            " EventID         = 10059\n",
            " EventTS         = 49486261\n",
            " InstantaneousIntensity = 185.185\n",
            " K3piVertex_x    = 53.7267\n",
            " K3piVertex_y    = 2.73911\n",
            " K3piVertex_z    = 141683\n",
            " K3piVertex_t    = 17.9379\n",
            " K3piKTAG_t      = 17.8034\n",
            " K3piKTAG_nsectors = 6\n",
            " K3piTotalMom_Px = 93.6885\n",
            " K3piTotalMom_Py = 1.32014\n",
            " K3piTotalMom_Pz = 75818.8\n",
            " K3piVertexGTK3_x = 5.24355\n",
            " K3piVertexGTK3_y = 2.08316\n",
            " K3piVertexGTK3_z = 102400\n",
            " K3piTotalMomGTK3_Px = 93.4278\n",
            " K3piTotalMomGTK3_Py = 1.29883\n",
            " K3piTotalMomGTK3_Pz = 75818.8\n",
            " GTKTrackGTK3_x  = (vector<float>*)0xab80a00\n",
            " GTKTrackGTK3_y  = (vector<float>*)0xabab270\n",
            " GTKTrack_t      = (vector<float>*)0xab947f0\n",
            " GTKTrack_Px     = (vector<float>*)0xab83140\n",
            " GTKTrack_Py     = (vector<float>*)0xa2ee8a0\n",
            " GTKTrack_Pz     = (vector<float>*)0xab930c0\n",
            " GTKTrack_chi2   = (vector<float>*)0xab4c2e0\n",
            " GTKTrack_nhits  = (vector<float>*)0xabcc480\n",
            " GTKHit_x        = (vector<float>*)0xab8e020\n",
            " GTKHit_y        = (vector<float>*)0xaba84f0\n",
            " GTKHit_t        = (vector<float>*)0xa463040\n",
            " GTKHit_traw     = (vector<float>*)0xaba7f50\n",
            " GTKHit_uid      = (vector<unsigned int>*)0xabb96a0\n",
            " GTKHit_isintrack = (vector<bool>*)0xac0ecf0\n"
          ]
        }
      ],
      "source": [
        "# Check the branches:\n",
        "myTree.Show(0)"
      ]
    },
    {
      "cell_type": "code",
      "execution_count": 8,
      "id": "a1ed192f",
      "metadata": {
        "id": "a1ed192f"
      },
      "outputs": [],
      "source": [
        "# Took me 25' on google collabs..\n",
        "# fill dx, dy, dt, dPx, dPy, dPz:\n",
        "dx=[]\n",
        "dy=[]\n",
        "dt=[]\n",
        "dPx=[]\n",
        "dPy=[]\n",
        "dPz=[]\n",
        "for entry in myTree:\n",
        "    for x,y,t,px,py,pz in zip(entry.GTKTrackGTK3_x, entry.GTKTrackGTK3_y, entry.GTKTrack_t, entry.GTKTrack_Px, entry.GTKTrack_Py, entry.GTKTrack_Pz):\n",
        "\n",
        "        if np.abs(t-entry.K3piKTAG_t)>1:\n",
        "            continue\n",
        "        \n",
        "        dx.append(x-entry.K3piVertexGTK3_x)\n",
        "        dy.append(y-entry.K3piVertexGTK3_y)\n",
        "        dt.append(t-entry.K3piKTAG_t)\n",
        "        dPx.append(px-entry.K3piTotalMom_Px)\n",
        "        dPy.append(py-entry.K3piTotalMom_Py)\n",
        "        dPz.append(pz-entry.K3piTotalMom_Pz)\n",
        "        "
      ]
    },
    {
      "cell_type": "code",
      "execution_count": 9,
      "id": "abccd81d",
      "metadata": {
        "id": "abccd81d",
        "outputId": "d350fd07-f550-4079-cfc1-9c19ae536032",
        "colab": {
          "base_uri": "https://localhost:8080/",
          "height": 531
        }
      },
      "outputs": [
        {
          "output_type": "execute_result",
          "data": {
            "text/plain": [
              "<matplotlib.colorbar.Colorbar at 0x7fdd50dc4cd0>"
            ]
          },
          "metadata": {},
          "execution_count": 9
        },
        {
          "output_type": "display_data",
          "data": {
            "text/plain": [
              "<Figure size 720x576 with 2 Axes>"
            ],
            "image/png": "[encoded data removed]"
          },
          "metadata": {
            "needs_background": "light"
          }
        }
      ],
      "source": [
        "# Vertex position vs GTK track position @ GTK3\n",
        "fig, ax= pl.subplots(figsize=(plotw,ploth))\n",
        "\n",
        "h = ax.hist2d(dx, dy, bins=[300, 300], cmap=colormap, norm=mcolors.LogNorm())\n",
        "ax.set_xlabel(r'$\\Delta X$ [mm]', fontsize=textsize)\n",
        "ax.set_ylabel(r'$\\Delta Y$ [mm]', fontsize=textsize)\n",
        "\n",
        "ax.set_xlim(-70, 70)\n",
        "ax.set_ylim(-50, 50)\n",
        "\n",
        "pl.colorbar(h[3], ax=ax)  # show color scale"
      ]
    },
    {
      "cell_type": "code",
      "execution_count": 10,
      "id": "afb8a325",
      "metadata": {
        "id": "afb8a325",
        "outputId": "200f93aa-bade-4cbb-ffe3-ee5fcb79f28c",
        "colab": {
          "base_uri": "https://localhost:8080/"
        }
      },
      "outputs": [
        {
          "output_type": "stream",
          "name": "stderr",
          "text": [
            "/usr/local/lib/python3.8/site-packages/zfit/__init__.py:62: UserWarning: TensorFlow warnings are by default suppressed by zfit. In order to show them, set the environment variable ZFIT_DISABLE_TF_WARNINGS=0. In order to suppress the TensorFlow warnings AND this warning, set ZFIT_DISABLE_TF_WARNINGS=1.\n",
            "  warnings.warn(\n"
          ]
        }
      ],
      "source": [
        "import zfit"
      ]
    },
    {
      "cell_type": "code",
      "source": [
        "all_params = {}\n",
        "\n",
        "def get_param(name, value=None, lower=None, upper=None, step_size=None, **kwargs):\n",
        "    \"\"\"Either create a parameter or return existing if a parameter with this name already exists.\n",
        "\n",
        "    If anything else than *name* is given, this will be used to change the existing parameter.\n",
        "\n",
        "    Args:\n",
        "        name: Name of the Parameter\n",
        "        value : starting value\n",
        "        lower : lower limit\n",
        "        upper : upper limit\n",
        "        step_size : step size\n",
        "\n",
        "    Returns:\n",
        "        ``zfit.Parameter``\n",
        "    \"\"\"\n",
        "    if name in all_params:\n",
        "        parameter = all_params[name]\n",
        "        if lower is not None:\n",
        "            parameter.lower = lower\n",
        "        if upper is not None:\n",
        "            parameter.upper = upper\n",
        "        if step_size is not None:\n",
        "            parameter.step_size = step_size\n",
        "        if value is not None:\n",
        "            parameter.set_value(value)\n",
        "        return parameter\n",
        "\n",
        "    # otherwise create new one\n",
        "    parameter = zfit.Parameter(name, value, lower, upper, step_size)\n",
        "    all_params[name] = parameter\n",
        "    return parameter"
      ],
      "metadata": {
        "id": "PsCfrnXxXtX7"
      },
      "id": "PsCfrnXxXtX7",
      "execution_count": 56,
      "outputs": []
    },
    {
      "cell_type": "code",
      "source": [
        "# Prepare fit function:\n",
        "# Why do we use double gauss?\n",
        "obs = zfit.Space('x', limits=(-60, 60))\n",
        "\n",
        "mu1 = get_param(\"mu100\", -1.5, -2, 1)\n",
        "sigma1 = get_param(\"sigma100\", 1.8,  0, 3)\n",
        "gauss1 = zfit.pdf.Gauss(obs=obs, mu=mu1, sigma=sigma1)\n",
        "\n",
        "mu2 = get_param(\"mu101\", -2, -5, 1)\n",
        "sigma2 = get_param(\"sigma101\", 20,  10, 120)\n",
        "gauss2 = zfit.pdf.Gauss(obs=obs, mu=mu2, sigma=sigma2)\n",
        "\n",
        "mu3 = get_param(\"mu103\", -2, -5, 1)\n",
        "sigma3 = get_param(\"sigma103\", 5,  3, 20)\n",
        "gauss3 = zfit.pdf.Gauss(obs=obs, mu=mu3, sigma=sigma3)\n",
        "\n",
        "g1_frac = get_param('g_frac100', 0.2, 0, 1)\n",
        "g2_frac = get_param('g_frac100', 0.2, 0, 1)\n",
        "model = zfit.pdf.SumPDF([gauss1, gauss2, gauss3], fracs=[g1_frac, g2_frac])"
      ],
      "metadata": {
        "id": "QVB8JJGhLoy6"
      },
      "id": "QVB8JJGhLoy6",
      "execution_count": 113,
      "outputs": []
    },
    {
      "cell_type": "code",
      "source": [
        "# Takes 10' in Collab\n",
        "# Prepare and apply fit\n",
        "# Stage 1: create an unbinned likelihood with the given PDF and dataset\n",
        "data = zfit.Data.from_numpy(obs=obs, array=np.array(dx))\n",
        "nll = zfit.loss.UnbinnedNLL(model=model, data=data)\n",
        "# Stage 2: instantiate a minimiser (in this case a basic minuit\n",
        "minimizer = zfit.minimize.Minuit()\n",
        "# Stage 3: minimise the given negative likelihood\n",
        "result = minimizer.minimize(nll)\n",
        "param_errors = result.hesse(method=\"minuit_hesse\")"
      ],
      "metadata": {
        "id": "fA-TJPsPjpnt"
      },
      "id": "fA-TJPsPjpnt",
      "execution_count": 114,
      "outputs": []
    },
    {
      "cell_type": "code",
      "source": [
        "fig, ax= pl.subplots(figsize=(plotw,ploth))\n",
        "\n",
        "nbins = 400\n",
        "x_range = [-60, 60]\n",
        "\n",
        "counts, bin_edges = np.histogram(dx, bins=nbins, range=(x_range[0], x_range[1]))\n",
        "bin_centres = (bin_edges[:-1]+bin_edges[1:])/2.\n",
        "err = np.sqrt(counts)\n",
        "err = err/np.sum(counts)\n",
        "counts = counts/np.sum(counts)\n",
        "pl.errorbar(bin_centres, counts, yerr=err, fmt='o', color='black')\n",
        "\n",
        "\n",
        "lower, upper = obs.limits\n",
        "numpoint=1000\n",
        "x_plot = np.linspace(lower[-1][0], upper[0][0], num=numpoint)\n",
        "y_plot = zfit.run(model.pdf(x_plot, norm_range=obs))\n",
        "\n",
        "pl.plot(x_plot, y_plot*numpoint/(nbins*np.sum(y_plot)), color='tab:red')\n",
        "\n",
        "ax.set_xlim(-20, 20)\n",
        "# ax.set_yscale('log')\n",
        "\n",
        "ax.set_xlabel(r'$\\Delta X$ [mm]', fontsize=textsize)\n",
        "ax.set_ylabel(r'Counts/0.3 mm', fontsize=textsize)"
      ],
      "metadata": {
        "id": "XOlvTfTIYa0-",
        "outputId": "a16e6638-f053-4df5-c3de-1216cd2d4963",
        "colab": {
          "base_uri": "https://localhost:8080/",
          "height": 531
        }
      },
      "id": "XOlvTfTIYa0-",
      "execution_count": 115,
      "outputs": [
        {
          "output_type": "execute_result",
          "data": {
            "text/plain": [
              "Text(0, 0.5, 'Counts/0.3 mm')"
            ]
          },
          "metadata": {},
          "execution_count": 115
        },
        {
          "output_type": "display_data",
          "data": {
            "text/plain": [
              "<Figure size 720x576 with 1 Axes>"
            ],
            "image/png": "[encoded data removed]"
          },
          "metadata": {
            "needs_background": "light"
          }
        }
      ]
    },
    {
      "cell_type": "code",
      "source": [
        "print(\"Function minimum:\", result.fmin)\n",
        "print(\"Converged:\", result.converged)\n",
        "print(result)"
      ],
      "metadata": {
        "colab": {
          "base_uri": "https://localhost:8080/"
        },
        "id": "sFYK_4gZYxnz",
        "outputId": "16d7d111-def3-4997-dab5-5b08cbc07091"
      },
      "id": "sFYK_4gZYxnz",
      "execution_count": 118,
      "outputs": [
        {
          "output_type": "stream",
          "name": "stdout",
          "text": [
            "Function minimum: -1733756.8030581838\n",
            "Converged: True\n",
            "FitResult of\n",
            "<UnbinnedNLL model=[<zfit.<class 'zfit.models.functor.SumPDF'>  params=[Composed_autoparam_8, g_frac100, g_frac100]] data=[<zfit.core.data.Data object at 0x7fdcaab0dbb0>] constraints=[]> \n",
            "with\n",
            "<Minuit Minuit tol=0.001>\n",
            "\n",
            "╒═════════╤═════════════╤══════════════════╤═════════╤═════════════╕\n",
            "│ valid   │ converged   │ param at limit   │ edm     │ min value   │\n",
            "╞═════════╪═════════════╪══════════════════╪═════════╪═════════════╡\n",
            "│ True    │ True        │ False            │ 6.5e-07 │ -1733757    │\n",
            "╘═════════╧═════════════╧══════════════════╧═════════╧═════════════╛\n",
            "\n",
            "Parameters\n",
            "name         value  (rounded)    at limit\n",
            "---------  ------------------  ----------\n",
            "g_frac100            0.426067       False\n",
            "mu100                -1.75991       False\n",
            "sigma100              1.54453       False\n",
            "mu101                -1.65533       False\n",
            "sigma101              17.7883       False\n",
            "mu103                -1.99178       False\n",
            "sigma103              3.96585       False\n"
          ]
        }
      ]
    },
    {
      "cell_type": "code",
      "source": [
        "result"
      ],
      "metadata": {
        "id": "lS1XVcWbQBRw",
        "outputId": "0a6fffcc-76e7-4c32-bb1c-1f6d977f5118",
        "colab": {
          "base_uri": "https://localhost:8080/"
        }
      },
      "id": "lS1XVcWbQBRw",
      "execution_count": 43,
      "outputs": [
        {
          "output_type": "execute_result",
          "data": {
            "text/plain": [
              "\u001b[1mFitResult\u001b[22m of\n",
              "<UnbinnedNLL model=[<zfit.<class 'zfit.models.functor.SumPDF'>  params=[Composed_autoparam_1, g_frac1]] data=[<zfit.core.data.Data object at 0x7fdcb0afb850>] constraints=[]> \n",
              "with\n",
              "<Minuit Minuit tol=0.001>\n",
              "\n",
              "╒═════════╤═════════════╤══════════════════╤═════════╤═════════════╕\n",
              "│ valid   │ converged   │ param at limit   │ edm     │ min value   │\n",
              "╞═════════╪═════════════╪══════════════════╪═════════╪═════════════╡\n",
              "│ False\u001b[0m   │ True\u001b[0m        │ True\u001b[0m             │ 0.00014 │ 979.9666    │\n",
              "╘═════════╧═════════════╧══════════════════╧═════════╧═════════════╛\n",
              "\n",
              "\u001b[1mParameters\n",
              "\u001b[22mname       value  (rounded)    at limit\n",
              "-------  ------------------  ----------\n",
              "g_frac1            0.222542       False\u001b[0m\n",
              "mu6                 9.99385       False\u001b[0m\n",
              "sigma6               4.6878       False\u001b[0m\n",
              "mu7                      10        True\u001b[0m\n",
              "sigma7              30.7482       False\u001b[0m"
            ]
          },
          "metadata": {},
          "execution_count": 43
        }
      ]
    },
    {
      "cell_type": "code",
      "execution_count": null,
      "id": "81dcd4b2",
      "metadata": {
        "id": "81dcd4b2",
        "outputId": "810de81d-edbf-4e3d-f4ec-67495fb1b50b"
      },
      "outputs": [
        {
          "data": {
            "text/plain": [
              "<matplotlib.colorbar.Colorbar at 0x7fdffef980d0>"
            ]
          },
          "execution_count": 23,
          "metadata": {},
          "output_type": "execute_result"
        },
        {
          "data": {
            "image/png": "[encoded data removed]",
            "text/plain": [
              "<Figure size 720x576 with 2 Axes>"
            ]
          },
          "metadata": {
            "needs_background": "light"
          },
          "output_type": "display_data"
        }
      ],
      "source": [
        "# Vertex position vs GTK track position @ GTK3\n",
        "fig, ax= pl.subplots(figsize=(plotw,ploth))\n",
        "\n",
        "h = ax.hist2d(dPx, dPy, bins=[300, 300], cmap=colormap, norm=mcolors.LogNorm())\n",
        "ax.set_xlabel(r'$\\Delta P_X$ [MeV]', fontsize=textsize)\n",
        "ax.set_ylabel(r'$\\Delta P_Y$ [MeV]', fontsize=textsize)\n",
        "\n",
        "ax.set_xlim(-150, 150)\n",
        "ax.set_ylim(-150, 150)\n",
        "\n",
        "pl.colorbar(h[3], ax=ax)  # show color scale"
      ]
    },
    {
      "cell_type": "code",
      "execution_count": null,
      "id": "91728dcf",
      "metadata": {
        "id": "91728dcf"
      },
      "outputs": [],
      "source": [
        "# We also can open the file with uproot. Note it is not very happy because of std::vectors...\n",
        "file = uproot.open(FilePath)\n",
        "\n",
        "gtk_tree = file[\"GTKStudyTtree\"]\n",
        "gtk_tree.show()"
      ]
    },
    {
      "cell_type": "code",
      "execution_count": null,
      "id": "1203d539",
      "metadata": {
        "id": "1203d539"
      },
      "outputs": [],
      "source": [
        "k3pi_df=gtk_tree.arrays([\"K3piVertex_x\", \"K3piVertex_y\", \"K3piVertex_z\", \"K3piVertexGTK3_x\",\"K3piVertexGTK3_y\",\"K3piVertexGTK3_z\",\n",
        "                        \"K3piTotalMomGTK3_Px\", \"K3piTotalMomGTK3_Py\", \"K3piTotalMomGTK3_Pz\"], library=\"pd\")"
      ]
    },
    {
      "cell_type": "code",
      "execution_count": null,
      "id": "804ad62f",
      "metadata": {
        "id": "804ad62f"
      },
      "outputs": [],
      "source": [
        "k3pi_df.head()"
      ]
    },
    {
      "cell_type": "code",
      "execution_count": null,
      "id": "9108b8fc",
      "metadata": {
        "id": "9108b8fc"
      },
      "outputs": [],
      "source": [
        "fig, ax= pl.subplots(figsize=(plotw, ploth))\n",
        "\n",
        "pl.hist(0.001*k3pi_df[\"K3piVertex_z\"], bins=150)\n",
        "ax.set_xlabel(r'K3$\\pi$ Z vertex [m]', fontsize=textsize)\n",
        "\n",
        "ax.set_yscale('log')\n",
        "\n",
        "ax.tick_params(axis='both',bottom=True, top=True, left=True, right=True, direction='in', which='both', width=2, length=5, labelsize=textsize, grid_color='black')"
      ]
    },
    {
      "cell_type": "code",
      "execution_count": null,
      "id": "773836cc",
      "metadata": {
        "id": "773836cc"
      },
      "outputs": [],
      "source": [
        "# Vertex position\n",
        "fig, ax= pl.subplots(figsize=(plotw,ploth))\n",
        "\n",
        "h = ax.hist2d(k3pi_df['K3piVertex_x'], k3pi_df['K3piVertex_y'], bins=[300, 300], cmap=colormap, norm=mcolors.LogNorm())\n",
        "ax.set_xlabel(r'K3$\\pi_X$ [mm]', fontsize=textsize)\n",
        "ax.set_ylabel(r'K3$\\pi_Y$ [mm]', fontsize=textsize)\n",
        "\n",
        "ax.set_xlim(-150, 200)\n",
        "ax.set_ylim(-150, 150)\n",
        "\n",
        "pl.colorbar(h[3], ax=ax)  # show color scale\n"
      ]
    },
    {
      "cell_type": "code",
      "execution_count": null,
      "id": "ecfd749c",
      "metadata": {
        "id": "ecfd749c"
      },
      "outputs": [],
      "source": [
        "# Vertex position @GTK3\n",
        "fig, ax= pl.subplots(figsize=(plotw,ploth))\n",
        "\n",
        "h = ax.hist2d(k3pi_df['K3piVertexGTK3_x'], k3pi_df['K3piVertexGTK3_y'], bins=[300, 300], cmap=colormap, norm=mcolors.LogNorm())\n",
        "ax.set_xlabel(r'K3$\\pi_X$ [mm]', fontsize=textsize)\n",
        "ax.set_ylabel(r'K3$\\pi_Y$ [mm]', fontsize=textsize)\n",
        "\n",
        "ax.set_xlim(-60, 50)\n",
        "ax.set_ylim(-50, 50)\n",
        "\n",
        "pl.colorbar(h[3], ax=ax)  # show color scale"
      ]
    },
    {
      "cell_type": "code",
      "execution_count": null,
      "id": "324ff2f9",
      "metadata": {
        "scrolled": true,
        "id": "324ff2f9"
      },
      "outputs": [],
      "source": []
    }
  ],
  "metadata": {
    "kernelspec": {
      "display_name": "test",
      "language": "python",
      "name": "python3"
    },
    "language_info": {
      "codemirror_mode": {
        "name": "ipython",
        "version": 3
      },
      "file_extension": ".py",
      "mimetype": "text/x-python",
      "name": "python",
      "nbconvert_exporter": "python",
      "pygments_lexer": "ipython3",
      "version": "3.10.6"
    },
    "latex_envs": {
      "LaTeX_envs_menu_present": true,
      "autoclose": false,
      "autocomplete": true,
      "bibliofile": "biblio.bib",
      "cite_by": "apalike",
      "current_citInitial": 1,
      "eqLabelWithNumbers": true,
      "eqNumInitial": 1,
      "hotkeys": {
        "equation": "Ctrl-E",
        "itemize": "Ctrl-I"
      },
      "labels_anchors": false,
      "latex_user_defs": false,
      "report_style_numbering": false,
      "user_envs_cfg": false
    },
    "vscode": {
      "interpreter": {
        "hash": "ce901fa56bd6c17946a6c2acb2e3866275a05e1833f99592d53d6961d015078e"
      }
    },
    "colab": {
      "provenance": [],
      "include_colab_link": true
    }
  },
  "nbformat": 4,
  "nbformat_minor": 5
}